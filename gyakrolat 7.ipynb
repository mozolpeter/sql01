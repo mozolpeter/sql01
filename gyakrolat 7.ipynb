{
    "metadata": {
        "kernelspec": {
            "name": "SQL",
            "display_name": "SQL",
            "language": "sql"
        },
        "language_info": {
            "name": "sql",
            "version": ""
        }
    },
    "nbformat_minor": 2,
    "nbformat": 4,
    "cells": [
        {
            "cell_type": "code",
            "source": [
                "CREATE VIEW VSZOBA AS\r\n",
                "SELECT s.*, sh.szallas_nev, sh.hely, sh.csillagok_szama\r\n",
                "FROM Szoba s\r\n",
                "JOIN SZALLASHELY sh ON s.szallas_fk = sh.szallas_id;"
            ],
            "metadata": {
                "azdata_cell_guid": "d7fa8559-2c37-48f4-b90c-f6377a904bb8",
                "language": "sql"
            },
            "outputs": [],
            "execution_count": null
        },
        {
            "cell_type": "code",
            "source": [
                "CREATE PROCEDURE SPUgyfelFoglalasok\r\n",
                "    @ugyfel_id VARCHAR(50)\r\n",
                "AS\r\n",
                "BEGIN\r\n",
                "    SELECT *\r\n",
                "    FROM Foglalas\r\n",
                "    WHERE ugyfel_fk = @ugyfel_id;\r\n",
                "END;"
            ],
            "metadata": {
                "azdata_cell_guid": "d66d0b77-04a5-4cbb-ab9d-c7fdcda1f2b0",
                "language": "sql"
            },
            "outputs": [],
            "execution_count": null
        },
        {
            "cell_type": "code",
            "source": [
                "CREATE FUNCTION UDFFerohely\r\n",
                "(\r\n",
                "    @foglalas_id INT\r\n",
                ")\r\n",
                "RETURNS INT\r\n",
                "AS\r\n",
                "BEGIN\r\n",
                "    DECLARE @ferohely INT;\r\n",
                "    SELECT @ferohely = ferohely\r\n",
                "    FROM Szoba\r\n",
                "    WHERE szoba_id = (SELECT szoba_fk FROM Foglalas WHERE foglalas_pk = @foglalas_id);\r\n",
                "    RETURN @ferohely;\r\n",
                "END;"
            ],
            "metadata": {
                "azdata_cell_guid": "0c4c45c0-d580-4fc5-b349-46f501d508eb",
                "language": "sql"
            },
            "outputs": [],
            "execution_count": null
        }
    ]
}