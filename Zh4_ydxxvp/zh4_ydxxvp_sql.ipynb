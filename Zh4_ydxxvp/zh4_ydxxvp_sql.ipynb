{
    "metadata": {
        "kernelspec": {
            "name": "SQL",
            "display_name": "SQL",
            "language": "sql"
        },
        "language_info": {
            "name": "sql",
            "version": ""
        }
    },
    "nbformat_minor": 2,
    "nbformat": 4,
    "cells": [
        {
            "cell_type": "code",
            "source": [
                "SELECT s.SZOBA_ID, COUNT(f.FOGLALAS_PK) AS FoglalasokSzama\r\n",
                "FROM Szoba s\r\n",
                "LEFT JOIN Foglalas f ON s.SZOBA_ID = f.SZOBA_FK\r\n",
                "GROUP BY s.SZOBA_ID;"
            ],
            "metadata": {
                "azdata_cell_guid": "518082ee-de83-440e-9df1-f41ce27773d9",
                "language": "sql"
            },
            "outputs": [
                {
                    "output_type": "display_data",
                    "data": {
                        "text/html": "(294 rows affected)"
                    },
                    "metadata": {}
                },
                {
                    "output_type": "display_data",
                    "data": {
                        "text/html": "Total execution time: 00:00:00.056"
                    },
                    "metadata": {}
                },
                {
                    "output_type": "execute_result",
                    "metadata": {},
                    "execution_count": 3,
                    "data": {
                        "application/vnd.dataresource+json": {
                            "schema": {
                                "fields": [
                                    {
                                        "name": "SZOBA_ID"
                                    },
                                    {
                                        "name": "FoglalasokSzama"
                                    }
                                ]
                            },
                            "data": [
                                {
                                    "SZOBA_ID": "1",
                                    "FoglalasokSzama": "8"
                                },
                                {
                                    "SZOBA_ID": "2",
                                    "FoglalasokSzama": "4"
                                },
                                {
                                    "SZOBA_ID": "3",
                                    "FoglalasokSzama": "8"
                                },
                                {
                                    "SZOBA_ID": "4",
                                    "FoglalasokSzama": "6"
                                },
                                {
                                    "SZOBA_ID": "5",
                                    "FoglalasokSzama": "4"
                                },
                                {
                                    "SZOBA_ID": "6",
                                    "FoglalasokSzama": "6"
                                },
                                {
                                    "SZOBA_ID": "7",
                                    "FoglalasokSzama": "6"
                                },
                                {
                                    "SZOBA_ID": "8",
                                    "FoglalasokSzama": "5"
                                },
                                {
                                    "SZOBA_ID": "9",
                                    "FoglalasokSzama": "6"
                                },
                                {
                                    "SZOBA_ID": "10",
                                    "FoglalasokSzama": "4"
                                },
                                {
                                    "SZOBA_ID": "11",
                                    "FoglalasokSzama": "4"
                                },
                                {
                                    "SZOBA_ID": "12",
                                    "FoglalasokSzama": "9"
                                },
                                {
                                    "SZOBA_ID": "13",
                                    "FoglalasokSzama": "4"
                                },
                                {
                                    "SZOBA_ID": "14",
                                    "FoglalasokSzama": "3"
                                },
                                {
                                    "SZOBA_ID": "15",
                                    "FoglalasokSzama": "6"
                                },
                                {
                                    "SZOBA_ID": "16",
                                    "FoglalasokSzama": "5"
                                },
                                {
                                    "SZOBA_ID": "17",
                                    "FoglalasokSzama": "6"
                                },
                                {
                                    "SZOBA_ID": "18",
                                    "FoglalasokSzama": "6"
                                },
                                {
                                    "SZOBA_ID": "19",
                                    "FoglalasokSzama": "6"
                                },
                                {
                                    "SZOBA_ID": "20",
                                    "FoglalasokSzama": "5"
                                },
                                {
                                    "SZOBA_ID": "21",
                                    "FoglalasokSzama": "4"
                                },
                                {
                                    "SZOBA_ID": "22",
                                    "FoglalasokSzama": "6"
                                },
                                {
                                    "SZOBA_ID": "23",
                                    "FoglalasokSzama": "3"
                                },
                                {
                                    "SZOBA_ID": "24",
                                    "FoglalasokSzama": "3"
                                },
                                {
                                    "SZOBA_ID": "25",
                                    "FoglalasokSzama": "2"
                                },
                                {
                                    "SZOBA_ID": "26",
                                    "FoglalasokSzama": "2"
                                },
                                {
                                    "SZOBA_ID": "27",
                                    "FoglalasokSzama": "7"
                                },
                                {
                                    "SZOBA_ID": "28",
                                    "FoglalasokSzama": "6"
                                },
                                {
                                    "SZOBA_ID": "29",
                                    "FoglalasokSzama": "6"
                                },
                                {
                                    "SZOBA_ID": "30",
                                    "FoglalasokSzama": "3"
                                },
                                {
                                    "SZOBA_ID": "31",
                                    "FoglalasokSzama": "3"
                                },
                                {
                                    "SZOBA_ID": "32",
                                    "FoglalasokSzama": "1"
                                },
                                {
                                    "SZOBA_ID": "33",
                                    "FoglalasokSzama": "6"
                                },
                                {
                                    "SZOBA_ID": "34",
                                    "FoglalasokSzama": "4"
                                },
                                {
                                    "SZOBA_ID": "35",
                                    "FoglalasokSzama": "9"
                                },
                                {
                                    "SZOBA_ID": "36",
                                    "FoglalasokSzama": "6"
                                },
                                {
                                    "SZOBA_ID": "37",
                                    "FoglalasokSzama": "3"
                                },
                                {
                                    "SZOBA_ID": "38",
                                    "FoglalasokSzama": "8"
                                },
                                {
                                    "SZOBA_ID": "39",
                                    "FoglalasokSzama": "7"
                                },
                                {
                                    "SZOBA_ID": "40",
                                    "FoglalasokSzama": "4"
                                },
                                {
                                    "SZOBA_ID": "41",
                                    "FoglalasokSzama": "2"
                                },
                                {
                                    "SZOBA_ID": "42",
                                    "FoglalasokSzama": "6"
                                },
                                {
                                    "SZOBA_ID": "43",
                                    "FoglalasokSzama": "8"
                                },
                                {
                                    "SZOBA_ID": "44",
                                    "FoglalasokSzama": "6"
                                },
                                {
                                    "SZOBA_ID": "45",
                                    "FoglalasokSzama": "5"
                                },
                                {
                                    "SZOBA_ID": "46",
                                    "FoglalasokSzama": "4"
                                },
                                {
                                    "SZOBA_ID": "47",
                                    "FoglalasokSzama": "2"
                                },
                                {
                                    "SZOBA_ID": "48",
                                    "FoglalasokSzama": "9"
                                },
                                {
                                    "SZOBA_ID": "49",
                                    "FoglalasokSzama": "7"
                                },
                                {
                                    "SZOBA_ID": "50",
                                    "FoglalasokSzama": "4"
                                },
                                {
                                    "SZOBA_ID": "51",
                                    "FoglalasokSzama": "5"
                                },
                                {
                                    "SZOBA_ID": "52",
                                    "FoglalasokSzama": "5"
                                },
                                {
                                    "SZOBA_ID": "53",
                                    "FoglalasokSzama": "2"
                                },
                                {
                                    "SZOBA_ID": "54",
                                    "FoglalasokSzama": "6"
                                },
                                {
                                    "SZOBA_ID": "55",
                                    "FoglalasokSzama": "8"
                                },
                                {
                                    "SZOBA_ID": "56",
                                    "FoglalasokSzama": "2"
                                },
                                {
                                    "SZOBA_ID": "57",
                                    "FoglalasokSzama": "4"
                                },
                                {
                                    "SZOBA_ID": "58",
                                    "FoglalasokSzama": "13"
                                },
                                {
                                    "SZOBA_ID": "59",
                                    "FoglalasokSzama": "7"
                                },
                                {
                                    "SZOBA_ID": "60",
                                    "FoglalasokSzama": "1"
                                },
                                {
                                    "SZOBA_ID": "61",
                                    "FoglalasokSzama": "5"
                                },
                                {
                                    "SZOBA_ID": "62",
                                    "FoglalasokSzama": "5"
                                },
                                {
                                    "SZOBA_ID": "63",
                                    "FoglalasokSzama": "4"
                                },
                                {
                                    "SZOBA_ID": "64",
                                    "FoglalasokSzama": "6"
                                },
                                {
                                    "SZOBA_ID": "65",
                                    "FoglalasokSzama": "1"
                                },
                                {
                                    "SZOBA_ID": "66",
                                    "FoglalasokSzama": "4"
                                },
                                {
                                    "SZOBA_ID": "67",
                                    "FoglalasokSzama": "6"
                                },
                                {
                                    "SZOBA_ID": "68",
                                    "FoglalasokSzama": "3"
                                },
                                {
                                    "SZOBA_ID": "69",
                                    "FoglalasokSzama": "4"
                                },
                                {
                                    "SZOBA_ID": "70",
                                    "FoglalasokSzama": "11"
                                },
                                {
                                    "SZOBA_ID": "71",
                                    "FoglalasokSzama": "3"
                                },
                                {
                                    "SZOBA_ID": "72",
                                    "FoglalasokSzama": "4"
                                },
                                {
                                    "SZOBA_ID": "73",
                                    "FoglalasokSzama": "4"
                                },
                                {
                                    "SZOBA_ID": "74",
                                    "FoglalasokSzama": "9"
                                },
                                {
                                    "SZOBA_ID": "75",
                                    "FoglalasokSzama": "3"
                                },
                                {
                                    "SZOBA_ID": "76",
                                    "FoglalasokSzama": "3"
                                },
                                {
                                    "SZOBA_ID": "77",
                                    "FoglalasokSzama": "6"
                                },
                                {
                                    "SZOBA_ID": "78",
                                    "FoglalasokSzama": "6"
                                },
                                {
                                    "SZOBA_ID": "79",
                                    "FoglalasokSzama": "5"
                                },
                                {
                                    "SZOBA_ID": "80",
                                    "FoglalasokSzama": "7"
                                },
                                {
                                    "SZOBA_ID": "81",
                                    "FoglalasokSzama": "5"
                                },
                                {
                                    "SZOBA_ID": "82",
                                    "FoglalasokSzama": "6"
                                },
                                {
                                    "SZOBA_ID": "83",
                                    "FoglalasokSzama": "8"
                                },
                                {
                                    "SZOBA_ID": "84",
                                    "FoglalasokSzama": "4"
                                },
                                {
                                    "SZOBA_ID": "85",
                                    "FoglalasokSzama": "4"
                                },
                                {
                                    "SZOBA_ID": "86",
                                    "FoglalasokSzama": "5"
                                },
                                {
                                    "SZOBA_ID": "87",
                                    "FoglalasokSzama": "5"
                                },
                                {
                                    "SZOBA_ID": "88",
                                    "FoglalasokSzama": "8"
                                },
                                {
                                    "SZOBA_ID": "89",
                                    "FoglalasokSzama": "8"
                                },
                                {
                                    "SZOBA_ID": "90",
                                    "FoglalasokSzama": "4"
                                },
                                {
                                    "SZOBA_ID": "91",
                                    "FoglalasokSzama": "4"
                                },
                                {
                                    "SZOBA_ID": "92",
                                    "FoglalasokSzama": "6"
                                },
                                {
                                    "SZOBA_ID": "93",
                                    "FoglalasokSzama": "5"
                                },
                                {
                                    "SZOBA_ID": "94",
                                    "FoglalasokSzama": "10"
                                },
                                {
                                    "SZOBA_ID": "95",
                                    "FoglalasokSzama": "4"
                                },
                                {
                                    "SZOBA_ID": "96",
                                    "FoglalasokSzama": "7"
                                },
                                {
                                    "SZOBA_ID": "97",
                                    "FoglalasokSzama": "7"
                                },
                                {
                                    "SZOBA_ID": "98",
                                    "FoglalasokSzama": "4"
                                },
                                {
                                    "SZOBA_ID": "99",
                                    "FoglalasokSzama": "5"
                                },
                                {
                                    "SZOBA_ID": "100",
                                    "FoglalasokSzama": "4"
                                },
                                {
                                    "SZOBA_ID": "101",
                                    "FoglalasokSzama": "3"
                                },
                                {
                                    "SZOBA_ID": "102",
                                    "FoglalasokSzama": "2"
                                },
                                {
                                    "SZOBA_ID": "103",
                                    "FoglalasokSzama": "4"
                                },
                                {
                                    "SZOBA_ID": "104",
                                    "FoglalasokSzama": "4"
                                },
                                {
                                    "SZOBA_ID": "105",
                                    "FoglalasokSzama": "2"
                                },
                                {
                                    "SZOBA_ID": "106",
                                    "FoglalasokSzama": "6"
                                },
                                {
                                    "SZOBA_ID": "107",
                                    "FoglalasokSzama": "5"
                                },
                                {
                                    "SZOBA_ID": "108",
                                    "FoglalasokSzama": "2"
                                },
                                {
                                    "SZOBA_ID": "109",
                                    "FoglalasokSzama": "7"
                                },
                                {
                                    "SZOBA_ID": "110",
                                    "FoglalasokSzama": "8"
                                },
                                {
                                    "SZOBA_ID": "111",
                                    "FoglalasokSzama": "5"
                                },
                                {
                                    "SZOBA_ID": "112",
                                    "FoglalasokSzama": "5"
                                },
                                {
                                    "SZOBA_ID": "113",
                                    "FoglalasokSzama": "5"
                                },
                                {
                                    "SZOBA_ID": "114",
                                    "FoglalasokSzama": "4"
                                },
                                {
                                    "SZOBA_ID": "115",
                                    "FoglalasokSzama": "7"
                                },
                                {
                                    "SZOBA_ID": "116",
                                    "FoglalasokSzama": "2"
                                },
                                {
                                    "SZOBA_ID": "117",
                                    "FoglalasokSzama": "8"
                                },
                                {
                                    "SZOBA_ID": "118",
                                    "FoglalasokSzama": "7"
                                },
                                {
                                    "SZOBA_ID": "119",
                                    "FoglalasokSzama": "5"
                                },
                                {
                                    "SZOBA_ID": "120",
                                    "FoglalasokSzama": "6"
                                },
                                {
                                    "SZOBA_ID": "121",
                                    "FoglalasokSzama": "8"
                                },
                                {
                                    "SZOBA_ID": "122",
                                    "FoglalasokSzama": "9"
                                },
                                {
                                    "SZOBA_ID": "123",
                                    "FoglalasokSzama": "5"
                                },
                                {
                                    "SZOBA_ID": "124",
                                    "FoglalasokSzama": "6"
                                },
                                {
                                    "SZOBA_ID": "125",
                                    "FoglalasokSzama": "1"
                                },
                                {
                                    "SZOBA_ID": "126",
                                    "FoglalasokSzama": "6"
                                },
                                {
                                    "SZOBA_ID": "127",
                                    "FoglalasokSzama": "7"
                                },
                                {
                                    "SZOBA_ID": "128",
                                    "FoglalasokSzama": "5"
                                },
                                {
                                    "SZOBA_ID": "129",
                                    "FoglalasokSzama": "4"
                                },
                                {
                                    "SZOBA_ID": "130",
                                    "FoglalasokSzama": "6"
                                },
                                {
                                    "SZOBA_ID": "131",
                                    "FoglalasokSzama": "5"
                                },
                                {
                                    "SZOBA_ID": "132",
                                    "FoglalasokSzama": "6"
                                },
                                {
                                    "SZOBA_ID": "133",
                                    "FoglalasokSzama": "6"
                                },
                                {
                                    "SZOBA_ID": "134",
                                    "FoglalasokSzama": "6"
                                },
                                {
                                    "SZOBA_ID": "135",
                                    "FoglalasokSzama": "3"
                                },
                                {
                                    "SZOBA_ID": "136",
                                    "FoglalasokSzama": "3"
                                },
                                {
                                    "SZOBA_ID": "137",
                                    "FoglalasokSzama": "6"
                                },
                                {
                                    "SZOBA_ID": "138",
                                    "FoglalasokSzama": "7"
                                },
                                {
                                    "SZOBA_ID": "139",
                                    "FoglalasokSzama": "7"
                                },
                                {
                                    "SZOBA_ID": "140",
                                    "FoglalasokSzama": "8"
                                },
                                {
                                    "SZOBA_ID": "141",
                                    "FoglalasokSzama": "6"
                                },
                                {
                                    "SZOBA_ID": "142",
                                    "FoglalasokSzama": "2"
                                },
                                {
                                    "SZOBA_ID": "143",
                                    "FoglalasokSzama": "7"
                                },
                                {
                                    "SZOBA_ID": "144",
                                    "FoglalasokSzama": "5"
                                },
                                {
                                    "SZOBA_ID": "145",
                                    "FoglalasokSzama": "6"
                                },
                                {
                                    "SZOBA_ID": "146",
                                    "FoglalasokSzama": "6"
                                },
                                {
                                    "SZOBA_ID": "147",
                                    "FoglalasokSzama": "1"
                                },
                                {
                                    "SZOBA_ID": "148",
                                    "FoglalasokSzama": "6"
                                },
                                {
                                    "SZOBA_ID": "149",
                                    "FoglalasokSzama": "7"
                                },
                                {
                                    "SZOBA_ID": "150",
                                    "FoglalasokSzama": "6"
                                },
                                {
                                    "SZOBA_ID": "151",
                                    "FoglalasokSzama": "3"
                                },
                                {
                                    "SZOBA_ID": "152",
                                    "FoglalasokSzama": "4"
                                },
                                {
                                    "SZOBA_ID": "153",
                                    "FoglalasokSzama": "5"
                                },
                                {
                                    "SZOBA_ID": "154",
                                    "FoglalasokSzama": "5"
                                },
                                {
                                    "SZOBA_ID": "155",
                                    "FoglalasokSzama": "5"
                                },
                                {
                                    "SZOBA_ID": "156",
                                    "FoglalasokSzama": "7"
                                },
                                {
                                    "SZOBA_ID": "157",
                                    "FoglalasokSzama": "5"
                                },
                                {
                                    "SZOBA_ID": "158",
                                    "FoglalasokSzama": "3"
                                },
                                {
                                    "SZOBA_ID": "159",
                                    "FoglalasokSzama": "0"
                                },
                                {
                                    "SZOBA_ID": "160",
                                    "FoglalasokSzama": "5"
                                },
                                {
                                    "SZOBA_ID": "161",
                                    "FoglalasokSzama": "6"
                                },
                                {
                                    "SZOBA_ID": "162",
                                    "FoglalasokSzama": "3"
                                },
                                {
                                    "SZOBA_ID": "163",
                                    "FoglalasokSzama": "7"
                                },
                                {
                                    "SZOBA_ID": "164",
                                    "FoglalasokSzama": "5"
                                },
                                {
                                    "SZOBA_ID": "165",
                                    "FoglalasokSzama": "7"
                                },
                                {
                                    "SZOBA_ID": "166",
                                    "FoglalasokSzama": "3"
                                },
                                {
                                    "SZOBA_ID": "167",
                                    "FoglalasokSzama": "2"
                                },
                                {
                                    "SZOBA_ID": "168",
                                    "FoglalasokSzama": "5"
                                },
                                {
                                    "SZOBA_ID": "169",
                                    "FoglalasokSzama": "6"
                                },
                                {
                                    "SZOBA_ID": "170",
                                    "FoglalasokSzama": "5"
                                },
                                {
                                    "SZOBA_ID": "171",
                                    "FoglalasokSzama": "5"
                                },
                                {
                                    "SZOBA_ID": "172",
                                    "FoglalasokSzama": "9"
                                },
                                {
                                    "SZOBA_ID": "173",
                                    "FoglalasokSzama": "4"
                                },
                                {
                                    "SZOBA_ID": "174",
                                    "FoglalasokSzama": "4"
                                },
                                {
                                    "SZOBA_ID": "175",
                                    "FoglalasokSzama": "5"
                                },
                                {
                                    "SZOBA_ID": "176",
                                    "FoglalasokSzama": "6"
                                },
                                {
                                    "SZOBA_ID": "177",
                                    "FoglalasokSzama": "4"
                                },
                                {
                                    "SZOBA_ID": "178",
                                    "FoglalasokSzama": "4"
                                },
                                {
                                    "SZOBA_ID": "179",
                                    "FoglalasokSzama": "3"
                                },
                                {
                                    "SZOBA_ID": "180",
                                    "FoglalasokSzama": "3"
                                },
                                {
                                    "SZOBA_ID": "181",
                                    "FoglalasokSzama": "6"
                                },
                                {
                                    "SZOBA_ID": "182",
                                    "FoglalasokSzama": "12"
                                },
                                {
                                    "SZOBA_ID": "183",
                                    "FoglalasokSzama": "4"
                                },
                                {
                                    "SZOBA_ID": "184",
                                    "FoglalasokSzama": "4"
                                },
                                {
                                    "SZOBA_ID": "185",
                                    "FoglalasokSzama": "12"
                                },
                                {
                                    "SZOBA_ID": "186",
                                    "FoglalasokSzama": "4"
                                },
                                {
                                    "SZOBA_ID": "187",
                                    "FoglalasokSzama": "7"
                                },
                                {
                                    "SZOBA_ID": "188",
                                    "FoglalasokSzama": "6"
                                },
                                {
                                    "SZOBA_ID": "189",
                                    "FoglalasokSzama": "5"
                                },
                                {
                                    "SZOBA_ID": "190",
                                    "FoglalasokSzama": "5"
                                },
                                {
                                    "SZOBA_ID": "191",
                                    "FoglalasokSzama": "5"
                                },
                                {
                                    "SZOBA_ID": "192",
                                    "FoglalasokSzama": "2"
                                },
                                {
                                    "SZOBA_ID": "193",
                                    "FoglalasokSzama": "7"
                                },
                                {
                                    "SZOBA_ID": "194",
                                    "FoglalasokSzama": "1"
                                },
                                {
                                    "SZOBA_ID": "195",
                                    "FoglalasokSzama": "6"
                                },
                                {
                                    "SZOBA_ID": "196",
                                    "FoglalasokSzama": "4"
                                },
                                {
                                    "SZOBA_ID": "197",
                                    "FoglalasokSzama": "6"
                                },
                                {
                                    "SZOBA_ID": "198",
                                    "FoglalasokSzama": "8"
                                },
                                {
                                    "SZOBA_ID": "199",
                                    "FoglalasokSzama": "0"
                                },
                                {
                                    "SZOBA_ID": "200",
                                    "FoglalasokSzama": "0"
                                },
                                {
                                    "SZOBA_ID": "201",
                                    "FoglalasokSzama": "0"
                                },
                                {
                                    "SZOBA_ID": "202",
                                    "FoglalasokSzama": "0"
                                },
                                {
                                    "SZOBA_ID": "203",
                                    "FoglalasokSzama": "0"
                                },
                                {
                                    "SZOBA_ID": "204",
                                    "FoglalasokSzama": "0"
                                },
                                {
                                    "SZOBA_ID": "205",
                                    "FoglalasokSzama": "0"
                                },
                                {
                                    "SZOBA_ID": "206",
                                    "FoglalasokSzama": "0"
                                },
                                {
                                    "SZOBA_ID": "207",
                                    "FoglalasokSzama": "0"
                                },
                                {
                                    "SZOBA_ID": "208",
                                    "FoglalasokSzama": "0"
                                },
                                {
                                    "SZOBA_ID": "209",
                                    "FoglalasokSzama": "0"
                                },
                                {
                                    "SZOBA_ID": "210",
                                    "FoglalasokSzama": "0"
                                },
                                {
                                    "SZOBA_ID": "211",
                                    "FoglalasokSzama": "0"
                                },
                                {
                                    "SZOBA_ID": "212",
                                    "FoglalasokSzama": "0"
                                },
                                {
                                    "SZOBA_ID": "213",
                                    "FoglalasokSzama": "0"
                                },
                                {
                                    "SZOBA_ID": "214",
                                    "FoglalasokSzama": "0"
                                },
                                {
                                    "SZOBA_ID": "215",
                                    "FoglalasokSzama": "0"
                                },
                                {
                                    "SZOBA_ID": "216",
                                    "FoglalasokSzama": "0"
                                },
                                {
                                    "SZOBA_ID": "217",
                                    "FoglalasokSzama": "0"
                                },
                                {
                                    "SZOBA_ID": "218",
                                    "FoglalasokSzama": "0"
                                },
                                {
                                    "SZOBA_ID": "219",
                                    "FoglalasokSzama": "0"
                                },
                                {
                                    "SZOBA_ID": "220",
                                    "FoglalasokSzama": "0"
                                },
                                {
                                    "SZOBA_ID": "221",
                                    "FoglalasokSzama": "0"
                                },
                                {
                                    "SZOBA_ID": "222",
                                    "FoglalasokSzama": "0"
                                },
                                {
                                    "SZOBA_ID": "223",
                                    "FoglalasokSzama": "0"
                                },
                                {
                                    "SZOBA_ID": "224",
                                    "FoglalasokSzama": "0"
                                },
                                {
                                    "SZOBA_ID": "225",
                                    "FoglalasokSzama": "0"
                                },
                                {
                                    "SZOBA_ID": "226",
                                    "FoglalasokSzama": "0"
                                },
                                {
                                    "SZOBA_ID": "227",
                                    "FoglalasokSzama": "0"
                                },
                                {
                                    "SZOBA_ID": "228",
                                    "FoglalasokSzama": "0"
                                },
                                {
                                    "SZOBA_ID": "229",
                                    "FoglalasokSzama": "0"
                                },
                                {
                                    "SZOBA_ID": "230",
                                    "FoglalasokSzama": "0"
                                },
                                {
                                    "SZOBA_ID": "231",
                                    "FoglalasokSzama": "0"
                                },
                                {
                                    "SZOBA_ID": "232",
                                    "FoglalasokSzama": "0"
                                },
                                {
                                    "SZOBA_ID": "233",
                                    "FoglalasokSzama": "0"
                                },
                                {
                                    "SZOBA_ID": "234",
                                    "FoglalasokSzama": "0"
                                },
                                {
                                    "SZOBA_ID": "235",
                                    "FoglalasokSzama": "0"
                                },
                                {
                                    "SZOBA_ID": "236",
                                    "FoglalasokSzama": "0"
                                },
                                {
                                    "SZOBA_ID": "237",
                                    "FoglalasokSzama": "0"
                                },
                                {
                                    "SZOBA_ID": "238",
                                    "FoglalasokSzama": "0"
                                },
                                {
                                    "SZOBA_ID": "239",
                                    "FoglalasokSzama": "0"
                                },
                                {
                                    "SZOBA_ID": "240",
                                    "FoglalasokSzama": "0"
                                },
                                {
                                    "SZOBA_ID": "241",
                                    "FoglalasokSzama": "0"
                                },
                                {
                                    "SZOBA_ID": "242",
                                    "FoglalasokSzama": "0"
                                },
                                {
                                    "SZOBA_ID": "243",
                                    "FoglalasokSzama": "0"
                                },
                                {
                                    "SZOBA_ID": "244",
                                    "FoglalasokSzama": "0"
                                },
                                {
                                    "SZOBA_ID": "245",
                                    "FoglalasokSzama": "0"
                                },
                                {
                                    "SZOBA_ID": "246",
                                    "FoglalasokSzama": "0"
                                },
                                {
                                    "SZOBA_ID": "247",
                                    "FoglalasokSzama": "0"
                                },
                                {
                                    "SZOBA_ID": "248",
                                    "FoglalasokSzama": "0"
                                },
                                {
                                    "SZOBA_ID": "249",
                                    "FoglalasokSzama": "0"
                                },
                                {
                                    "SZOBA_ID": "250",
                                    "FoglalasokSzama": "0"
                                },
                                {
                                    "SZOBA_ID": "251",
                                    "FoglalasokSzama": "0"
                                },
                                {
                                    "SZOBA_ID": "252",
                                    "FoglalasokSzama": "0"
                                },
                                {
                                    "SZOBA_ID": "253",
                                    "FoglalasokSzama": "0"
                                },
                                {
                                    "SZOBA_ID": "254",
                                    "FoglalasokSzama": "0"
                                },
                                {
                                    "SZOBA_ID": "255",
                                    "FoglalasokSzama": "0"
                                },
                                {
                                    "SZOBA_ID": "256",
                                    "FoglalasokSzama": "0"
                                },
                                {
                                    "SZOBA_ID": "257",
                                    "FoglalasokSzama": "0"
                                },
                                {
                                    "SZOBA_ID": "258",
                                    "FoglalasokSzama": "0"
                                },
                                {
                                    "SZOBA_ID": "259",
                                    "FoglalasokSzama": "0"
                                },
                                {
                                    "SZOBA_ID": "260",
                                    "FoglalasokSzama": "0"
                                },
                                {
                                    "SZOBA_ID": "261",
                                    "FoglalasokSzama": "0"
                                },
                                {
                                    "SZOBA_ID": "262",
                                    "FoglalasokSzama": "0"
                                },
                                {
                                    "SZOBA_ID": "263",
                                    "FoglalasokSzama": "0"
                                },
                                {
                                    "SZOBA_ID": "264",
                                    "FoglalasokSzama": "0"
                                },
                                {
                                    "SZOBA_ID": "265",
                                    "FoglalasokSzama": "0"
                                },
                                {
                                    "SZOBA_ID": "266",
                                    "FoglalasokSzama": "0"
                                },
                                {
                                    "SZOBA_ID": "267",
                                    "FoglalasokSzama": "0"
                                },
                                {
                                    "SZOBA_ID": "268",
                                    "FoglalasokSzama": "0"
                                },
                                {
                                    "SZOBA_ID": "269",
                                    "FoglalasokSzama": "0"
                                },
                                {
                                    "SZOBA_ID": "270",
                                    "FoglalasokSzama": "0"
                                },
                                {
                                    "SZOBA_ID": "271",
                                    "FoglalasokSzama": "0"
                                },
                                {
                                    "SZOBA_ID": "272",
                                    "FoglalasokSzama": "0"
                                },
                                {
                                    "SZOBA_ID": "273",
                                    "FoglalasokSzama": "0"
                                },
                                {
                                    "SZOBA_ID": "274",
                                    "FoglalasokSzama": "0"
                                },
                                {
                                    "SZOBA_ID": "275",
                                    "FoglalasokSzama": "0"
                                },
                                {
                                    "SZOBA_ID": "276",
                                    "FoglalasokSzama": "0"
                                },
                                {
                                    "SZOBA_ID": "277",
                                    "FoglalasokSzama": "0"
                                },
                                {
                                    "SZOBA_ID": "278",
                                    "FoglalasokSzama": "0"
                                },
                                {
                                    "SZOBA_ID": "279",
                                    "FoglalasokSzama": "0"
                                },
                                {
                                    "SZOBA_ID": "280",
                                    "FoglalasokSzama": "0"
                                },
                                {
                                    "SZOBA_ID": "281",
                                    "FoglalasokSzama": "0"
                                },
                                {
                                    "SZOBA_ID": "282",
                                    "FoglalasokSzama": "0"
                                },
                                {
                                    "SZOBA_ID": "283",
                                    "FoglalasokSzama": "0"
                                },
                                {
                                    "SZOBA_ID": "284",
                                    "FoglalasokSzama": "0"
                                },
                                {
                                    "SZOBA_ID": "285",
                                    "FoglalasokSzama": "0"
                                },
                                {
                                    "SZOBA_ID": "286",
                                    "FoglalasokSzama": "0"
                                },
                                {
                                    "SZOBA_ID": "287",
                                    "FoglalasokSzama": "0"
                                },
                                {
                                    "SZOBA_ID": "288",
                                    "FoglalasokSzama": "0"
                                },
                                {
                                    "SZOBA_ID": "289",
                                    "FoglalasokSzama": "0"
                                },
                                {
                                    "SZOBA_ID": "290",
                                    "FoglalasokSzama": "0"
                                },
                                {
                                    "SZOBA_ID": "291",
                                    "FoglalasokSzama": "0"
                                },
                                {
                                    "SZOBA_ID": "292",
                                    "FoglalasokSzama": "0"
                                },
                                {
                                    "SZOBA_ID": "293",
                                    "FoglalasokSzama": "0"
                                },
                                {
                                    "SZOBA_ID": "294",
                                    "FoglalasokSzama": "0"
                                }
                            ]
                        },
                        "text/html": [
                            "<table>",
                            "<tr><th>SZOBA_ID</th><th>FoglalasokSzama</th></tr>",
                            "<tr><td>1</td><td>8</td></tr>",
                            "<tr><td>2</td><td>4</td></tr>",
                            "<tr><td>3</td><td>8</td></tr>",
                            "<tr><td>4</td><td>6</td></tr>",
                            "<tr><td>5</td><td>4</td></tr>",
                            "<tr><td>6</td><td>6</td></tr>",
                            "<tr><td>7</td><td>6</td></tr>",
                            "<tr><td>8</td><td>5</td></tr>",
                            "<tr><td>9</td><td>6</td></tr>",
                            "<tr><td>10</td><td>4</td></tr>",
                            "<tr><td>11</td><td>4</td></tr>",
                            "<tr><td>12</td><td>9</td></tr>",
                            "<tr><td>13</td><td>4</td></tr>",
                            "<tr><td>14</td><td>3</td></tr>",
                            "<tr><td>15</td><td>6</td></tr>",
                            "<tr><td>16</td><td>5</td></tr>",
                            "<tr><td>17</td><td>6</td></tr>",
                            "<tr><td>18</td><td>6</td></tr>",
                            "<tr><td>19</td><td>6</td></tr>",
                            "<tr><td>20</td><td>5</td></tr>",
                            "<tr><td>21</td><td>4</td></tr>",
                            "<tr><td>22</td><td>6</td></tr>",
                            "<tr><td>23</td><td>3</td></tr>",
                            "<tr><td>24</td><td>3</td></tr>",
                            "<tr><td>25</td><td>2</td></tr>",
                            "<tr><td>26</td><td>2</td></tr>",
                            "<tr><td>27</td><td>7</td></tr>",
                            "<tr><td>28</td><td>6</td></tr>",
                            "<tr><td>29</td><td>6</td></tr>",
                            "<tr><td>30</td><td>3</td></tr>",
                            "<tr><td>31</td><td>3</td></tr>",
                            "<tr><td>32</td><td>1</td></tr>",
                            "<tr><td>33</td><td>6</td></tr>",
                            "<tr><td>34</td><td>4</td></tr>",
                            "<tr><td>35</td><td>9</td></tr>",
                            "<tr><td>36</td><td>6</td></tr>",
                            "<tr><td>37</td><td>3</td></tr>",
                            "<tr><td>38</td><td>8</td></tr>",
                            "<tr><td>39</td><td>7</td></tr>",
                            "<tr><td>40</td><td>4</td></tr>",
                            "<tr><td>41</td><td>2</td></tr>",
                            "<tr><td>42</td><td>6</td></tr>",
                            "<tr><td>43</td><td>8</td></tr>",
                            "<tr><td>44</td><td>6</td></tr>",
                            "<tr><td>45</td><td>5</td></tr>",
                            "<tr><td>46</td><td>4</td></tr>",
                            "<tr><td>47</td><td>2</td></tr>",
                            "<tr><td>48</td><td>9</td></tr>",
                            "<tr><td>49</td><td>7</td></tr>",
                            "<tr><td>50</td><td>4</td></tr>",
                            "<tr><td>51</td><td>5</td></tr>",
                            "<tr><td>52</td><td>5</td></tr>",
                            "<tr><td>53</td><td>2</td></tr>",
                            "<tr><td>54</td><td>6</td></tr>",
                            "<tr><td>55</td><td>8</td></tr>",
                            "<tr><td>56</td><td>2</td></tr>",
                            "<tr><td>57</td><td>4</td></tr>",
                            "<tr><td>58</td><td>13</td></tr>",
                            "<tr><td>59</td><td>7</td></tr>",
                            "<tr><td>60</td><td>1</td></tr>",
                            "<tr><td>61</td><td>5</td></tr>",
                            "<tr><td>62</td><td>5</td></tr>",
                            "<tr><td>63</td><td>4</td></tr>",
                            "<tr><td>64</td><td>6</td></tr>",
                            "<tr><td>65</td><td>1</td></tr>",
                            "<tr><td>66</td><td>4</td></tr>",
                            "<tr><td>67</td><td>6</td></tr>",
                            "<tr><td>68</td><td>3</td></tr>",
                            "<tr><td>69</td><td>4</td></tr>",
                            "<tr><td>70</td><td>11</td></tr>",
                            "<tr><td>71</td><td>3</td></tr>",
                            "<tr><td>72</td><td>4</td></tr>",
                            "<tr><td>73</td><td>4</td></tr>",
                            "<tr><td>74</td><td>9</td></tr>",
                            "<tr><td>75</td><td>3</td></tr>",
                            "<tr><td>76</td><td>3</td></tr>",
                            "<tr><td>77</td><td>6</td></tr>",
                            "<tr><td>78</td><td>6</td></tr>",
                            "<tr><td>79</td><td>5</td></tr>",
                            "<tr><td>80</td><td>7</td></tr>",
                            "<tr><td>81</td><td>5</td></tr>",
                            "<tr><td>82</td><td>6</td></tr>",
                            "<tr><td>83</td><td>8</td></tr>",
                            "<tr><td>84</td><td>4</td></tr>",
                            "<tr><td>85</td><td>4</td></tr>",
                            "<tr><td>86</td><td>5</td></tr>",
                            "<tr><td>87</td><td>5</td></tr>",
                            "<tr><td>88</td><td>8</td></tr>",
                            "<tr><td>89</td><td>8</td></tr>",
                            "<tr><td>90</td><td>4</td></tr>",
                            "<tr><td>91</td><td>4</td></tr>",
                            "<tr><td>92</td><td>6</td></tr>",
                            "<tr><td>93</td><td>5</td></tr>",
                            "<tr><td>94</td><td>10</td></tr>",
                            "<tr><td>95</td><td>4</td></tr>",
                            "<tr><td>96</td><td>7</td></tr>",
                            "<tr><td>97</td><td>7</td></tr>",
                            "<tr><td>98</td><td>4</td></tr>",
                            "<tr><td>99</td><td>5</td></tr>",
                            "<tr><td>100</td><td>4</td></tr>",
                            "<tr><td>101</td><td>3</td></tr>",
                            "<tr><td>102</td><td>2</td></tr>",
                            "<tr><td>103</td><td>4</td></tr>",
                            "<tr><td>104</td><td>4</td></tr>",
                            "<tr><td>105</td><td>2</td></tr>",
                            "<tr><td>106</td><td>6</td></tr>",
                            "<tr><td>107</td><td>5</td></tr>",
                            "<tr><td>108</td><td>2</td></tr>",
                            "<tr><td>109</td><td>7</td></tr>",
                            "<tr><td>110</td><td>8</td></tr>",
                            "<tr><td>111</td><td>5</td></tr>",
                            "<tr><td>112</td><td>5</td></tr>",
                            "<tr><td>113</td><td>5</td></tr>",
                            "<tr><td>114</td><td>4</td></tr>",
                            "<tr><td>115</td><td>7</td></tr>",
                            "<tr><td>116</td><td>2</td></tr>",
                            "<tr><td>117</td><td>8</td></tr>",
                            "<tr><td>118</td><td>7</td></tr>",
                            "<tr><td>119</td><td>5</td></tr>",
                            "<tr><td>120</td><td>6</td></tr>",
                            "<tr><td>121</td><td>8</td></tr>",
                            "<tr><td>122</td><td>9</td></tr>",
                            "<tr><td>123</td><td>5</td></tr>",
                            "<tr><td>124</td><td>6</td></tr>",
                            "<tr><td>125</td><td>1</td></tr>",
                            "<tr><td>126</td><td>6</td></tr>",
                            "<tr><td>127</td><td>7</td></tr>",
                            "<tr><td>128</td><td>5</td></tr>",
                            "<tr><td>129</td><td>4</td></tr>",
                            "<tr><td>130</td><td>6</td></tr>",
                            "<tr><td>131</td><td>5</td></tr>",
                            "<tr><td>132</td><td>6</td></tr>",
                            "<tr><td>133</td><td>6</td></tr>",
                            "<tr><td>134</td><td>6</td></tr>",
                            "<tr><td>135</td><td>3</td></tr>",
                            "<tr><td>136</td><td>3</td></tr>",
                            "<tr><td>137</td><td>6</td></tr>",
                            "<tr><td>138</td><td>7</td></tr>",
                            "<tr><td>139</td><td>7</td></tr>",
                            "<tr><td>140</td><td>8</td></tr>",
                            "<tr><td>141</td><td>6</td></tr>",
                            "<tr><td>142</td><td>2</td></tr>",
                            "<tr><td>143</td><td>7</td></tr>",
                            "<tr><td>144</td><td>5</td></tr>",
                            "<tr><td>145</td><td>6</td></tr>",
                            "<tr><td>146</td><td>6</td></tr>",
                            "<tr><td>147</td><td>1</td></tr>",
                            "<tr><td>148</td><td>6</td></tr>",
                            "<tr><td>149</td><td>7</td></tr>",
                            "<tr><td>150</td><td>6</td></tr>",
                            "<tr><td>151</td><td>3</td></tr>",
                            "<tr><td>152</td><td>4</td></tr>",
                            "<tr><td>153</td><td>5</td></tr>",
                            "<tr><td>154</td><td>5</td></tr>",
                            "<tr><td>155</td><td>5</td></tr>",
                            "<tr><td>156</td><td>7</td></tr>",
                            "<tr><td>157</td><td>5</td></tr>",
                            "<tr><td>158</td><td>3</td></tr>",
                            "<tr><td>159</td><td>0</td></tr>",
                            "<tr><td>160</td><td>5</td></tr>",
                            "<tr><td>161</td><td>6</td></tr>",
                            "<tr><td>162</td><td>3</td></tr>",
                            "<tr><td>163</td><td>7</td></tr>",
                            "<tr><td>164</td><td>5</td></tr>",
                            "<tr><td>165</td><td>7</td></tr>",
                            "<tr><td>166</td><td>3</td></tr>",
                            "<tr><td>167</td><td>2</td></tr>",
                            "<tr><td>168</td><td>5</td></tr>",
                            "<tr><td>169</td><td>6</td></tr>",
                            "<tr><td>170</td><td>5</td></tr>",
                            "<tr><td>171</td><td>5</td></tr>",
                            "<tr><td>172</td><td>9</td></tr>",
                            "<tr><td>173</td><td>4</td></tr>",
                            "<tr><td>174</td><td>4</td></tr>",
                            "<tr><td>175</td><td>5</td></tr>",
                            "<tr><td>176</td><td>6</td></tr>",
                            "<tr><td>177</td><td>4</td></tr>",
                            "<tr><td>178</td><td>4</td></tr>",
                            "<tr><td>179</td><td>3</td></tr>",
                            "<tr><td>180</td><td>3</td></tr>",
                            "<tr><td>181</td><td>6</td></tr>",
                            "<tr><td>182</td><td>12</td></tr>",
                            "<tr><td>183</td><td>4</td></tr>",
                            "<tr><td>184</td><td>4</td></tr>",
                            "<tr><td>185</td><td>12</td></tr>",
                            "<tr><td>186</td><td>4</td></tr>",
                            "<tr><td>187</td><td>7</td></tr>",
                            "<tr><td>188</td><td>6</td></tr>",
                            "<tr><td>189</td><td>5</td></tr>",
                            "<tr><td>190</td><td>5</td></tr>",
                            "<tr><td>191</td><td>5</td></tr>",
                            "<tr><td>192</td><td>2</td></tr>",
                            "<tr><td>193</td><td>7</td></tr>",
                            "<tr><td>194</td><td>1</td></tr>",
                            "<tr><td>195</td><td>6</td></tr>",
                            "<tr><td>196</td><td>4</td></tr>",
                            "<tr><td>197</td><td>6</td></tr>",
                            "<tr><td>198</td><td>8</td></tr>",
                            "<tr><td>199</td><td>0</td></tr>",
                            "<tr><td>200</td><td>0</td></tr>",
                            "<tr><td>201</td><td>0</td></tr>",
                            "<tr><td>202</td><td>0</td></tr>",
                            "<tr><td>203</td><td>0</td></tr>",
                            "<tr><td>204</td><td>0</td></tr>",
                            "<tr><td>205</td><td>0</td></tr>",
                            "<tr><td>206</td><td>0</td></tr>",
                            "<tr><td>207</td><td>0</td></tr>",
                            "<tr><td>208</td><td>0</td></tr>",
                            "<tr><td>209</td><td>0</td></tr>",
                            "<tr><td>210</td><td>0</td></tr>",
                            "<tr><td>211</td><td>0</td></tr>",
                            "<tr><td>212</td><td>0</td></tr>",
                            "<tr><td>213</td><td>0</td></tr>",
                            "<tr><td>214</td><td>0</td></tr>",
                            "<tr><td>215</td><td>0</td></tr>",
                            "<tr><td>216</td><td>0</td></tr>",
                            "<tr><td>217</td><td>0</td></tr>",
                            "<tr><td>218</td><td>0</td></tr>",
                            "<tr><td>219</td><td>0</td></tr>",
                            "<tr><td>220</td><td>0</td></tr>",
                            "<tr><td>221</td><td>0</td></tr>",
                            "<tr><td>222</td><td>0</td></tr>",
                            "<tr><td>223</td><td>0</td></tr>",
                            "<tr><td>224</td><td>0</td></tr>",
                            "<tr><td>225</td><td>0</td></tr>",
                            "<tr><td>226</td><td>0</td></tr>",
                            "<tr><td>227</td><td>0</td></tr>",
                            "<tr><td>228</td><td>0</td></tr>",
                            "<tr><td>229</td><td>0</td></tr>",
                            "<tr><td>230</td><td>0</td></tr>",
                            "<tr><td>231</td><td>0</td></tr>",
                            "<tr><td>232</td><td>0</td></tr>",
                            "<tr><td>233</td><td>0</td></tr>",
                            "<tr><td>234</td><td>0</td></tr>",
                            "<tr><td>235</td><td>0</td></tr>",
                            "<tr><td>236</td><td>0</td></tr>",
                            "<tr><td>237</td><td>0</td></tr>",
                            "<tr><td>238</td><td>0</td></tr>",
                            "<tr><td>239</td><td>0</td></tr>",
                            "<tr><td>240</td><td>0</td></tr>",
                            "<tr><td>241</td><td>0</td></tr>",
                            "<tr><td>242</td><td>0</td></tr>",
                            "<tr><td>243</td><td>0</td></tr>",
                            "<tr><td>244</td><td>0</td></tr>",
                            "<tr><td>245</td><td>0</td></tr>",
                            "<tr><td>246</td><td>0</td></tr>",
                            "<tr><td>247</td><td>0</td></tr>",
                            "<tr><td>248</td><td>0</td></tr>",
                            "<tr><td>249</td><td>0</td></tr>",
                            "<tr><td>250</td><td>0</td></tr>",
                            "<tr><td>251</td><td>0</td></tr>",
                            "<tr><td>252</td><td>0</td></tr>",
                            "<tr><td>253</td><td>0</td></tr>",
                            "<tr><td>254</td><td>0</td></tr>",
                            "<tr><td>255</td><td>0</td></tr>",
                            "<tr><td>256</td><td>0</td></tr>",
                            "<tr><td>257</td><td>0</td></tr>",
                            "<tr><td>258</td><td>0</td></tr>",
                            "<tr><td>259</td><td>0</td></tr>",
                            "<tr><td>260</td><td>0</td></tr>",
                            "<tr><td>261</td><td>0</td></tr>",
                            "<tr><td>262</td><td>0</td></tr>",
                            "<tr><td>263</td><td>0</td></tr>",
                            "<tr><td>264</td><td>0</td></tr>",
                            "<tr><td>265</td><td>0</td></tr>",
                            "<tr><td>266</td><td>0</td></tr>",
                            "<tr><td>267</td><td>0</td></tr>",
                            "<tr><td>268</td><td>0</td></tr>",
                            "<tr><td>269</td><td>0</td></tr>",
                            "<tr><td>270</td><td>0</td></tr>",
                            "<tr><td>271</td><td>0</td></tr>",
                            "<tr><td>272</td><td>0</td></tr>",
                            "<tr><td>273</td><td>0</td></tr>",
                            "<tr><td>274</td><td>0</td></tr>",
                            "<tr><td>275</td><td>0</td></tr>",
                            "<tr><td>276</td><td>0</td></tr>",
                            "<tr><td>277</td><td>0</td></tr>",
                            "<tr><td>278</td><td>0</td></tr>",
                            "<tr><td>279</td><td>0</td></tr>",
                            "<tr><td>280</td><td>0</td></tr>",
                            "<tr><td>281</td><td>0</td></tr>",
                            "<tr><td>282</td><td>0</td></tr>",
                            "<tr><td>283</td><td>0</td></tr>",
                            "<tr><td>284</td><td>0</td></tr>",
                            "<tr><td>285</td><td>0</td></tr>",
                            "<tr><td>286</td><td>0</td></tr>",
                            "<tr><td>287</td><td>0</td></tr>",
                            "<tr><td>288</td><td>0</td></tr>",
                            "<tr><td>289</td><td>0</td></tr>",
                            "<tr><td>290</td><td>0</td></tr>",
                            "<tr><td>291</td><td>0</td></tr>",
                            "<tr><td>292</td><td>0</td></tr>",
                            "<tr><td>293</td><td>0</td></tr>",
                            "<tr><td>294</td><td>0</td></tr>",
                            "</table>"
                        ]
                    }
                }
            ],
            "execution_count": 3
        },
        {
            "cell_type": "code",
            "source": [
                "WITH LegtobbFerohely AS (\r\n",
                "    SELECT MAX(FEROHELY) AS MaxFerohely\r\n",
                "    FROM Szoba\r\n",
                "    WHERE KLIMAS = 'I'\r\n",
                ")\r\n",
                "SELECT v.*\r\n",
                "FROM Vendeg v\r\n",
                "JOIN Foglalas f ON v.USERNEV = f.UGYFEL_FK\r\n",
                "JOIN Szoba s ON f.SZOBA_FK = s.SZOBA_ID\r\n",
                "JOIN LegtobbFerohely lf ON s.FEROHELY = lf.MaxFerohely\r\n",
                "WHERE s.KLIMAS = 'I';"
            ],
            "metadata": {
                "azdata_cell_guid": "2a5f5d95-e3da-47ba-a639-e86b96cd81b7",
                "language": "sql"
            },
            "outputs": [
                {
                    "output_type": "display_data",
                    "data": {
                        "text/html": "(3 rows affected)"
                    },
                    "metadata": {}
                },
                {
                    "output_type": "display_data",
                    "data": {
                        "text/html": "Total execution time: 00:00:00.013"
                    },
                    "metadata": {}
                },
                {
                    "output_type": "execute_result",
                    "metadata": {},
                    "execution_count": 4,
                    "data": {
                        "application/vnd.dataresource+json": {
                            "schema": {
                                "fields": [
                                    {
                                        "name": "USERNEV"
                                    },
                                    {
                                        "name": "NEV"
                                    },
                                    {
                                        "name": "EMAIL"
                                    },
                                    {
                                        "name": "SZAML_CIM"
                                    },
                                    {
                                        "name": "SZUL_DAT"
                                    }
                                ]
                            },
                            "data": [
                                {
                                    "USERNEV": "JOZSEFG",
                                    "NEV": "Gyuris József",
                                    "EMAIL": "józsef.gyuris@mail.hu",
                                    "SZAML_CIM": "2660 Balassagyarmat Petőfi utca 1/2.",
                                    "SZUL_DAT": "1975-05-26"
                                },
                                {
                                    "USERNEV": "PETERB",
                                    "NEV": "Berendi Péter",
                                    "EMAIL": "péter.berendi@mail.hu",
                                    "SZAML_CIM": "3980 Sátoraljaújhely Vasút utca 4/10.",
                                    "SZUL_DAT": "1969-01-01"
                                },
                                {
                                    "USERNEV": "tunde",
                                    "NEV": "Turcsik Tünde",
                                    "EMAIL": "tunde@gmail.com",
                                    "SZAML_CIM": "7130 Tolna Fő út 122.",
                                    "SZUL_DAT": "1974-02-12"
                                }
                            ]
                        },
                        "text/html": [
                            "<table>",
                            "<tr><th>USERNEV</th><th>NEV</th><th>EMAIL</th><th>SZAML_CIM</th><th>SZUL_DAT</th></tr>",
                            "<tr><td>JOZSEFG</td><td>Gyuris József</td><td>józsef.gyuris@mail.hu</td><td>2660 Balassagyarmat Petőfi utca 1/2.</td><td>1975-05-26</td></tr>",
                            "<tr><td>PETERB</td><td>Berendi Péter</td><td>péter.berendi@mail.hu</td><td>3980 Sátoraljaújhely Vasút utca 4/10.</td><td>1969-01-01</td></tr>",
                            "<tr><td>tunde</td><td>Turcsik Tünde</td><td>tunde@gmail.com</td><td>7130 Tolna Fő út 122.</td><td>1974-02-12</td></tr>",
                            "</table>"
                        ]
                    }
                }
            ],
            "execution_count": 4
        },
        {
            "cell_type": "code",
            "source": [
                "WITH FoglalasSzam AS (\r\n",
                "    SELECT UGYFEL_FK, COUNT(*) AS FoglalasokSzama\r\n",
                "    FROM Foglalas\r\n",
                "    GROUP BY UGYFEL_FK\r\n",
                ")\r\n",
                "SELECT \r\n",
                "    ROW_NUMBER() OVER (ORDER BY FoglalasokSzama DESC) AS Sorrend,\r\n",
                "    v.USERNEV,\r\n",
                "    v.NEV,\r\n",
                "    fs.FoglalasokSzama\r\n",
                "FROM Vendeg v\r\n",
                "JOIN FoglalasSzam fs ON v.USERNEV = fs.UGYFEL_FK\r\n",
                "ORDER BY Sorrend;"
            ],
            "metadata": {
                "azdata_cell_guid": "e94fd390-0262-4a21-a98a-3ed0a828cbb5",
                "language": "sql"
            },
            "outputs": [
                {
                    "output_type": "display_data",
                    "data": {
                        "text/html": "(195 rows affected)"
                    },
                    "metadata": {}
                },
                {
                    "output_type": "display_data",
                    "data": {
                        "text/html": "Total execution time: 00:00:00.018"
                    },
                    "metadata": {}
                },
                {
                    "output_type": "execute_result",
                    "metadata": {},
                    "execution_count": 5,
                    "data": {
                        "application/vnd.dataresource+json": {
                            "schema": {
                                "fields": [
                                    {
                                        "name": "Sorrend"
                                    },
                                    {
                                        "name": "USERNEV"
                                    },
                                    {
                                        "name": "NEV"
                                    },
                                    {
                                        "name": "FoglalasokSzama"
                                    }
                                ]
                            },
                            "data": [
                                {
                                    "Sorrend": "1",
                                    "USERNEV": "andras41",
                                    "NEV": "Komjáti András",
                                    "FoglalasokSzama": "13"
                                },
                                {
                                    "Sorrend": "2",
                                    "USERNEV": "ARONK",
                                    "NEV": "Kelemen Áron",
                                    "FoglalasokSzama": "13"
                                },
                                {
                                    "Sorrend": "3",
                                    "USERNEV": "krisztian4",
                                    "NEV": "Czérna Krisztián",
                                    "FoglalasokSzama": "12"
                                },
                                {
                                    "Sorrend": "4",
                                    "USERNEV": "peter4",
                                    "NEV": "Bíró Péter",
                                    "FoglalasokSzama": "12"
                                },
                                {
                                    "Sorrend": "5",
                                    "USERNEV": "sara",
                                    "NEV": "Farkas Sára",
                                    "FoglalasokSzama": "12"
                                },
                                {
                                    "Sorrend": "6",
                                    "USERNEV": "zoltan4",
                                    "NEV": "Barna Zoltán",
                                    "FoglalasokSzama": "12"
                                },
                                {
                                    "Sorrend": "7",
                                    "USERNEV": "kata",
                                    "NEV": "Gondos Katalin",
                                    "FoglalasokSzama": "10"
                                },
                                {
                                    "Sorrend": "8",
                                    "USERNEV": "akos",
                                    "NEV": "Bíró Ákos",
                                    "FoglalasokSzama": "10"
                                },
                                {
                                    "Sorrend": "9",
                                    "USERNEV": "balazs2",
                                    "NEV": "Szűcs Balázs",
                                    "FoglalasokSzama": "10"
                                },
                                {
                                    "Sorrend": "10",
                                    "USERNEV": "balint1",
                                    "NEV": "Molnár Bálint",
                                    "FoglalasokSzama": "10"
                                },
                                {
                                    "Sorrend": "11",
                                    "USERNEV": "eszter2",
                                    "NEV": "Balogh Eszter",
                                    "FoglalasokSzama": "10"
                                },
                                {
                                    "Sorrend": "12",
                                    "USERNEV": "dani",
                                    "NEV": "Vörös Dániel",
                                    "FoglalasokSzama": "9"
                                },
                                {
                                    "Sorrend": "13",
                                    "USERNEV": "daniel",
                                    "NEV": "Rácz Dániel",
                                    "FoglalasokSzama": "9"
                                },
                                {
                                    "Sorrend": "14",
                                    "USERNEV": "david",
                                    "NEV": "Ambrus Dávid",
                                    "FoglalasokSzama": "9"
                                },
                                {
                                    "Sorrend": "15",
                                    "USERNEV": "BEATRIXK",
                                    "NEV": "Kerényi Beatrix",
                                    "FoglalasokSzama": "9"
                                },
                                {
                                    "Sorrend": "16",
                                    "USERNEV": "bence",
                                    "NEV": "Győrffy Bence",
                                    "FoglalasokSzama": "9"
                                },
                                {
                                    "Sorrend": "17",
                                    "USERNEV": "ANIKOS",
                                    "NEV": "Simon Anikó",
                                    "FoglalasokSzama": "9"
                                },
                                {
                                    "Sorrend": "18",
                                    "USERNEV": "katalin",
                                    "NEV": "Horváth Katalin",
                                    "FoglalasokSzama": "9"
                                },
                                {
                                    "Sorrend": "19",
                                    "USERNEV": "katka",
                                    "NEV": "Kovács Katalin",
                                    "FoglalasokSzama": "9"
                                },
                                {
                                    "Sorrend": "20",
                                    "USERNEV": "norbert4",
                                    "NEV": "Mile Norbert",
                                    "FoglalasokSzama": "9"
                                },
                                {
                                    "Sorrend": "21",
                                    "USERNEV": "szilvia1",
                                    "NEV": "Tari Szilvia",
                                    "FoglalasokSzama": "9"
                                },
                                {
                                    "Sorrend": "22",
                                    "USERNEV": "TAMASF",
                                    "NEV": "Fényes Tamás",
                                    "FoglalasokSzama": "9"
                                },
                                {
                                    "Sorrend": "23",
                                    "USERNEV": "tunde",
                                    "NEV": "Turcsik Tünde",
                                    "FoglalasokSzama": "8"
                                },
                                {
                                    "Sorrend": "24",
                                    "USERNEV": "ROBERTI",
                                    "NEV": "Iván Róbert",
                                    "FoglalasokSzama": "8"
                                },
                                {
                                    "Sorrend": "25",
                                    "USERNEV": "MATYASS",
                                    "NEV": "Szilágyi Mátyás",
                                    "FoglalasokSzama": "8"
                                },
                                {
                                    "Sorrend": "26",
                                    "USERNEV": "krisztina",
                                    "NEV": "Szedlár Krisztina",
                                    "FoglalasokSzama": "8"
                                },
                                {
                                    "Sorrend": "27",
                                    "USERNEV": "maria1",
                                    "NEV": "Baráth Mária",
                                    "FoglalasokSzama": "8"
                                },
                                {
                                    "Sorrend": "28",
                                    "USERNEV": "fruzsina4",
                                    "NEV": "Frank Fruzsina",
                                    "FoglalasokSzama": "8"
                                },
                                {
                                    "Sorrend": "29",
                                    "USERNEV": "GYORGYO",
                                    "NEV": "Oroszi György",
                                    "FoglalasokSzama": "8"
                                },
                                {
                                    "Sorrend": "30",
                                    "USERNEV": "anett3",
                                    "NEV": "Pivarcsi Anett",
                                    "FoglalasokSzama": "8"
                                },
                                {
                                    "Sorrend": "31",
                                    "USERNEV": "andras3",
                                    "NEV": "Vígh András",
                                    "FoglalasokSzama": "8"
                                },
                                {
                                    "Sorrend": "32",
                                    "USERNEV": "bernadett2",
                                    "NEV": "Kovács Bernadett",
                                    "FoglalasokSzama": "8"
                                },
                                {
                                    "Sorrend": "33",
                                    "USERNEV": "csongor3",
                                    "NEV": "Nagymihály Csongor",
                                    "FoglalasokSzama": "8"
                                },
                                {
                                    "Sorrend": "34",
                                    "USERNEV": "daniel1",
                                    "NEV": "Keszler Dániel",
                                    "FoglalasokSzama": "7"
                                },
                                {
                                    "Sorrend": "35",
                                    "USERNEV": "edit",
                                    "NEV": "Bittmann Edit",
                                    "FoglalasokSzama": "7"
                                },
                                {
                                    "Sorrend": "36",
                                    "USERNEV": "emese",
                                    "NEV": "Kuruc Emese",
                                    "FoglalasokSzama": "7"
                                },
                                {
                                    "Sorrend": "37",
                                    "USERNEV": "BERNADETTO",
                                    "NEV": "Orbán Bernadett",
                                    "FoglalasokSzama": "7"
                                },
                                {
                                    "Sorrend": "38",
                                    "USERNEV": "bernadett1",
                                    "NEV": "Simon Bernadett",
                                    "FoglalasokSzama": "7"
                                },
                                {
                                    "Sorrend": "39",
                                    "USERNEV": "alexandra",
                                    "NEV": "Bagóczki Alexandra",
                                    "FoglalasokSzama": "7"
                                },
                                {
                                    "Sorrend": "40",
                                    "USERNEV": "andras21",
                                    "NEV": "Molnár András",
                                    "FoglalasokSzama": "7"
                                },
                                {
                                    "Sorrend": "41",
                                    "USERNEV": "arpad2",
                                    "NEV": "Ötvös Árpád",
                                    "FoglalasokSzama": "7"
                                },
                                {
                                    "Sorrend": "42",
                                    "USERNEV": "ARPADH",
                                    "NEV": "Horváth Árpád",
                                    "FoglalasokSzama": "7"
                                },
                                {
                                    "Sorrend": "43",
                                    "USERNEV": "imre1",
                                    "NEV": "Papp Imre",
                                    "FoglalasokSzama": "7"
                                },
                                {
                                    "Sorrend": "44",
                                    "USERNEV": "GYONGYIK",
                                    "NEV": "Kornseé Gyöngyi",
                                    "FoglalasokSzama": "7"
                                },
                                {
                                    "Sorrend": "45",
                                    "USERNEV": "kati",
                                    "NEV": "Zatykó Katalin",
                                    "FoglalasokSzama": "7"
                                },
                                {
                                    "Sorrend": "46",
                                    "USERNEV": "JANOSG",
                                    "NEV": "Giliga János",
                                    "FoglalasokSzama": "7"
                                },
                                {
                                    "Sorrend": "47",
                                    "USERNEV": "JOZSEFG",
                                    "NEV": "Gyuris József",
                                    "FoglalasokSzama": "7"
                                },
                                {
                                    "Sorrend": "48",
                                    "USERNEV": "marton",
                                    "NEV": "Kalacsi Márton",
                                    "FoglalasokSzama": "7"
                                },
                                {
                                    "Sorrend": "49",
                                    "USERNEV": "nikoletta4",
                                    "NEV": "Kő Nikoletta",
                                    "FoglalasokSzama": "7"
                                },
                                {
                                    "Sorrend": "50",
                                    "USERNEV": "norbert2",
                                    "NEV": "Hegedűs Norbert",
                                    "FoglalasokSzama": "7"
                                },
                                {
                                    "Sorrend": "51",
                                    "USERNEV": "SZABOLCSM",
                                    "NEV": "Miklós Szabolcs",
                                    "FoglalasokSzama": "7"
                                },
                                {
                                    "Sorrend": "52",
                                    "USERNEV": "SZILARDS",
                                    "NEV": "Szalai Szilárd",
                                    "FoglalasokSzama": "7"
                                },
                                {
                                    "Sorrend": "53",
                                    "USERNEV": "vivien3",
                                    "NEV": "Boros Vivien",
                                    "FoglalasokSzama": "7"
                                },
                                {
                                    "Sorrend": "54",
                                    "USERNEV": "ZSOLTJ",
                                    "NEV": "Józsa Zsolt",
                                    "FoglalasokSzama": "6"
                                },
                                {
                                    "Sorrend": "55",
                                    "USERNEV": "ZOLTANP",
                                    "NEV": "Pintér Zoltán",
                                    "FoglalasokSzama": "6"
                                },
                                {
                                    "Sorrend": "56",
                                    "USERNEV": "ZSUZSAV",
                                    "NEV": "Vajda Zsuzsa",
                                    "FoglalasokSzama": "6"
                                },
                                {
                                    "Sorrend": "57",
                                    "USERNEV": "veronika4",
                                    "NEV": "Tankó Veronika",
                                    "FoglalasokSzama": "6"
                                },
                                {
                                    "Sorrend": "58",
                                    "USERNEV": "tihamer",
                                    "NEV": "Kazy Tihamér",
                                    "FoglalasokSzama": "6"
                                },
                                {
                                    "Sorrend": "59",
                                    "USERNEV": "RENATAK",
                                    "NEV": "Kardos Renáta",
                                    "FoglalasokSzama": "6"
                                },
                                {
                                    "Sorrend": "60",
                                    "USERNEV": "polla",
                                    "NEV": "Palágyi Polla",
                                    "FoglalasokSzama": "6"
                                },
                                {
                                    "Sorrend": "61",
                                    "USERNEV": "peter3",
                                    "NEV": "Szalai Péter",
                                    "FoglalasokSzama": "6"
                                },
                                {
                                    "Sorrend": "62",
                                    "USERNEV": "MONIKAM",
                                    "NEV": "Mohos Mónika",
                                    "FoglalasokSzama": "6"
                                },
                                {
                                    "Sorrend": "63",
                                    "USERNEV": "kriszti",
                                    "NEV": "Horváth Krisztina",
                                    "FoglalasokSzama": "6"
                                },
                                {
                                    "Sorrend": "64",
                                    "USERNEV": "LASZLON",
                                    "NEV": "Nagy László",
                                    "FoglalasokSzama": "6"
                                },
                                {
                                    "Sorrend": "65",
                                    "USERNEV": "krisztina1",
                                    "NEV": "Bori Krisztina",
                                    "FoglalasokSzama": "6"
                                },
                                {
                                    "Sorrend": "66",
                                    "USERNEV": "KRISZTIANM",
                                    "NEV": "Mogyródi Krisztián",
                                    "FoglalasokSzama": "6"
                                },
                                {
                                    "Sorrend": "67",
                                    "USERNEV": "lala",
                                    "NEV": "Nagymihály Lajos",
                                    "FoglalasokSzama": "6"
                                },
                                {
                                    "Sorrend": "68",
                                    "USERNEV": "katalin4",
                                    "NEV": "Kertész Katalin",
                                    "FoglalasokSzama": "6"
                                },
                                {
                                    "Sorrend": "69",
                                    "USERNEV": "gabor1",
                                    "NEV": "Köves Gábor",
                                    "FoglalasokSzama": "6"
                                },
                                {
                                    "Sorrend": "70",
                                    "USERNEV": "gabriella1",
                                    "NEV": "Nagy Gabriella",
                                    "FoglalasokSzama": "6"
                                },
                                {
                                    "Sorrend": "71",
                                    "USERNEV": "ARPADM",
                                    "NEV": "Móricz Árpád",
                                    "FoglalasokSzama": "6"
                                },
                                {
                                    "Sorrend": "72",
                                    "USERNEV": "ANNAMARIAR",
                                    "NEV": "Regős Annamária",
                                    "FoglalasokSzama": "6"
                                },
                                {
                                    "Sorrend": "73",
                                    "USERNEV": "aron2",
                                    "NEV": "Jakab Áron",
                                    "FoglalasokSzama": "6"
                                },
                                {
                                    "Sorrend": "74",
                                    "USERNEV": "attila1",
                                    "NEV": "Gulyás Attila",
                                    "FoglalasokSzama": "6"
                                },
                                {
                                    "Sorrend": "75",
                                    "USERNEV": "andrea",
                                    "NEV": "Kiss Andrea",
                                    "FoglalasokSzama": "6"
                                },
                                {
                                    "Sorrend": "76",
                                    "USERNEV": "AGNESH",
                                    "NEV": "Horváth Ágnes",
                                    "FoglalasokSzama": "6"
                                },
                                {
                                    "Sorrend": "77",
                                    "USERNEV": "adam4",
                                    "NEV": "Bieniek Ádám",
                                    "FoglalasokSzama": "6"
                                },
                                {
                                    "Sorrend": "78",
                                    "USERNEV": "beata4",
                                    "NEV": "Bagi Beáta",
                                    "FoglalasokSzama": "6"
                                },
                                {
                                    "Sorrend": "79",
                                    "USERNEV": "BENCEB",
                                    "NEV": "Bajusz Bence",
                                    "FoglalasokSzama": "6"
                                },
                                {
                                    "Sorrend": "80",
                                    "USERNEV": "bertalan",
                                    "NEV": "Csiger Bertalan",
                                    "FoglalasokSzama": "6"
                                },
                                {
                                    "Sorrend": "81",
                                    "USERNEV": "BEATRIXS",
                                    "NEV": "Szekendi Beatrix",
                                    "FoglalasokSzama": "6"
                                },
                                {
                                    "Sorrend": "82",
                                    "USERNEV": "BELAF",
                                    "NEV": "Farkas Béla",
                                    "FoglalasokSzama": "6"
                                },
                                {
                                    "Sorrend": "83",
                                    "USERNEV": "balazs3",
                                    "NEV": "Bakódy Balázs",
                                    "FoglalasokSzama": "6"
                                },
                                {
                                    "Sorrend": "84",
                                    "USERNEV": "balazs1",
                                    "NEV": "Bozsik Balázs",
                                    "FoglalasokSzama": "6"
                                },
                                {
                                    "Sorrend": "85",
                                    "USERNEV": "david1",
                                    "NEV": "Sobják Dávid",
                                    "FoglalasokSzama": "6"
                                },
                                {
                                    "Sorrend": "86",
                                    "USERNEV": "denes",
                                    "NEV": "Tömböly Dénes",
                                    "FoglalasokSzama": "6"
                                },
                                {
                                    "Sorrend": "87",
                                    "USERNEV": "dora3",
                                    "NEV": "Sarodi Dóra",
                                    "FoglalasokSzama": "5"
                                },
                                {
                                    "Sorrend": "88",
                                    "USERNEV": "EVAV",
                                    "NEV": "Viktor Éva",
                                    "FoglalasokSzama": "5"
                                },
                                {
                                    "Sorrend": "89",
                                    "USERNEV": "brigitta",
                                    "NEV": "Székely Brigitta",
                                    "FoglalasokSzama": "5"
                                },
                                {
                                    "Sorrend": "90",
                                    "USERNEV": "brigitta3",
                                    "NEV": "Pataki Brigitta",
                                    "FoglalasokSzama": "5"
                                },
                                {
                                    "Sorrend": "91",
                                    "USERNEV": "agnes",
                                    "NEV": "Lengyel Ágnes",
                                    "FoglalasokSzama": "5"
                                },
                                {
                                    "Sorrend": "92",
                                    "USERNEV": "ANDRASE",
                                    "NEV": "Erdei András",
                                    "FoglalasokSzama": "5"
                                },
                                {
                                    "Sorrend": "93",
                                    "USERNEV": "andi",
                                    "NEV": "Maródi Andrea",
                                    "FoglalasokSzama": "5"
                                },
                                {
                                    "Sorrend": "94",
                                    "USERNEV": "andras2",
                                    "NEV": "Tóth András",
                                    "FoglalasokSzama": "5"
                                },
                                {
                                    "Sorrend": "95",
                                    "USERNEV": "gusztav",
                                    "NEV": "Bárci Gusztáv",
                                    "FoglalasokSzama": "5"
                                },
                                {
                                    "Sorrend": "96",
                                    "USERNEV": "julia",
                                    "NEV": "Tóth Júlia",
                                    "FoglalasokSzama": "5"
                                },
                                {
                                    "Sorrend": "97",
                                    "USERNEV": "janos3",
                                    "NEV": "Harangozó János",
                                    "FoglalasokSzama": "5"
                                },
                                {
                                    "Sorrend": "98",
                                    "USERNEV": "jozsef2",
                                    "NEV": "Vajda József",
                                    "FoglalasokSzama": "5"
                                },
                                {
                                    "Sorrend": "99",
                                    "USERNEV": "KRISZTINAG",
                                    "NEV": "Gyárfás Krisztina",
                                    "FoglalasokSzama": "5"
                                },
                                {
                                    "Sorrend": "100",
                                    "USERNEV": "laszlo2",
                                    "NEV": "Móra László",
                                    "FoglalasokSzama": "5"
                                },
                                {
                                    "Sorrend": "101",
                                    "USERNEV": "mark",
                                    "NEV": "Kispál Márk",
                                    "FoglalasokSzama": "5"
                                },
                                {
                                    "Sorrend": "102",
                                    "USERNEV": "MIHALYJ",
                                    "NEV": "Juhász Mihály",
                                    "FoglalasokSzama": "5"
                                },
                                {
                                    "Sorrend": "103",
                                    "USERNEV": "pal",
                                    "NEV": "Barabás Pál",
                                    "FoglalasokSzama": "5"
                                },
                                {
                                    "Sorrend": "104",
                                    "USERNEV": "norbert",
                                    "NEV": "Szűcs Norbert",
                                    "FoglalasokSzama": "5"
                                },
                                {
                                    "Sorrend": "105",
                                    "USERNEV": "PETERB",
                                    "NEV": "Berendi Péter",
                                    "FoglalasokSzama": "5"
                                },
                                {
                                    "Sorrend": "106",
                                    "USERNEV": "RENATAS",
                                    "NEV": "Szirmai Renáta",
                                    "FoglalasokSzama": "5"
                                },
                                {
                                    "Sorrend": "107",
                                    "USERNEV": "SEBASTIANF",
                                    "NEV": "Foltényi Sebastián",
                                    "FoglalasokSzama": "5"
                                },
                                {
                                    "Sorrend": "108",
                                    "USERNEV": "reka4",
                                    "NEV": "Szikszai Réka",
                                    "FoglalasokSzama": "5"
                                },
                                {
                                    "Sorrend": "109",
                                    "USERNEV": "timea2",
                                    "NEV": "Dusha Tímea",
                                    "FoglalasokSzama": "5"
                                },
                                {
                                    "Sorrend": "110",
                                    "USERNEV": "valentin",
                                    "NEV": "Feró Valentin",
                                    "FoglalasokSzama": "5"
                                },
                                {
                                    "Sorrend": "111",
                                    "USERNEV": "sandor3",
                                    "NEV": "Farkas Sándor",
                                    "FoglalasokSzama": "5"
                                },
                                {
                                    "Sorrend": "112",
                                    "USERNEV": "sandor4",
                                    "NEV": "Nagy Sándor",
                                    "FoglalasokSzama": "4"
                                },
                                {
                                    "Sorrend": "113",
                                    "USERNEV": "VIKTORIAU",
                                    "NEV": "Urbán Viktoria",
                                    "FoglalasokSzama": "4"
                                },
                                {
                                    "Sorrend": "114",
                                    "USERNEV": "tamas",
                                    "NEV": "Antal Tamás",
                                    "FoglalasokSzama": "4"
                                },
                                {
                                    "Sorrend": "115",
                                    "USERNEV": "sandor",
                                    "NEV": "Karasz Sándor",
                                    "FoglalasokSzama": "4"
                                },
                                {
                                    "Sorrend": "116",
                                    "USERNEV": "roland",
                                    "NEV": "Tóth Roland",
                                    "FoglalasokSzama": "4"
                                },
                                {
                                    "Sorrend": "117",
                                    "USERNEV": "roland1",
                                    "NEV": "Ferencz Roland",
                                    "FoglalasokSzama": "4"
                                },
                                {
                                    "Sorrend": "118",
                                    "USERNEV": "sebestyen",
                                    "NEV": "Rab Sebestyén",
                                    "FoglalasokSzama": "4"
                                },
                                {
                                    "Sorrend": "119",
                                    "USERNEV": "robert2",
                                    "NEV": "Patay Róbert",
                                    "FoglalasokSzama": "4"
                                },
                                {
                                    "Sorrend": "120",
                                    "USERNEV": "rajmond4",
                                    "NEV": "Rácz Rajmond",
                                    "FoglalasokSzama": "4"
                                },
                                {
                                    "Sorrend": "121",
                                    "USERNEV": "zsolt1",
                                    "NEV": "Pulai Zsolt",
                                    "FoglalasokSzama": "4"
                                },
                                {
                                    "Sorrend": "122",
                                    "USERNEV": "zsuzsa3",
                                    "NEV": "Varsányi Zsuzsa",
                                    "FoglalasokSzama": "4"
                                },
                                {
                                    "Sorrend": "123",
                                    "USERNEV": "zsuzsanna",
                                    "NEV": "Barta Zsuzsanna",
                                    "FoglalasokSzama": "4"
                                },
                                {
                                    "Sorrend": "124",
                                    "USERNEV": "nikolett3",
                                    "NEV": "Horváth Nikolett",
                                    "FoglalasokSzama": "4"
                                },
                                {
                                    "Sorrend": "125",
                                    "USERNEV": "peter1",
                                    "NEV": "Kozma Péter",
                                    "FoglalasokSzama": "4"
                                },
                                {
                                    "Sorrend": "126",
                                    "USERNEV": "peter2",
                                    "NEV": "Bozsó Péter",
                                    "FoglalasokSzama": "4"
                                },
                                {
                                    "Sorrend": "127",
                                    "USERNEV": "NIKOLETTAT",
                                    "NEV": "Tatár Nikoletta",
                                    "FoglalasokSzama": "4"
                                },
                                {
                                    "Sorrend": "128",
                                    "USERNEV": "MARKH",
                                    "NEV": "Horváth Márk",
                                    "FoglalasokSzama": "4"
                                },
                                {
                                    "Sorrend": "129",
                                    "USERNEV": "LASZLOA",
                                    "NEV": "Antal László",
                                    "FoglalasokSzama": "4"
                                },
                                {
                                    "Sorrend": "130",
                                    "USERNEV": "JANOSP",
                                    "NEV": "Pálinkás János",
                                    "FoglalasokSzama": "4"
                                },
                                {
                                    "Sorrend": "131",
                                    "USERNEV": "julianna4",
                                    "NEV": "Szabó Julianna",
                                    "FoglalasokSzama": "4"
                                },
                                {
                                    "Sorrend": "132",
                                    "USERNEV": "eva2",
                                    "NEV": "Perlinger Éva",
                                    "FoglalasokSzama": "4"
                                },
                                {
                                    "Sorrend": "133",
                                    "USERNEV": "georgij",
                                    "NEV": "Nyíri Georgij",
                                    "FoglalasokSzama": "4"
                                },
                                {
                                    "Sorrend": "134",
                                    "USERNEV": "gabor4",
                                    "NEV": "Telek Gábor",
                                    "FoglalasokSzama": "4"
                                },
                                {
                                    "Sorrend": "135",
                                    "USERNEV": "istvan1",
                                    "NEV": "Vizi István",
                                    "FoglalasokSzama": "4"
                                },
                                {
                                    "Sorrend": "136",
                                    "USERNEV": "ilona3",
                                    "NEV": "Bosnyák Ilona",
                                    "FoglalasokSzama": "4"
                                },
                                {
                                    "Sorrend": "137",
                                    "USERNEV": "aniko4",
                                    "NEV": "Böröcz Anikó",
                                    "FoglalasokSzama": "4"
                                },
                                {
                                    "Sorrend": "138",
                                    "USERNEV": "anita",
                                    "NEV": "Hamvay-Kovács Anita",
                                    "FoglalasokSzama": "4"
                                },
                                {
                                    "Sorrend": "139",
                                    "USERNEV": "andrea4",
                                    "NEV": "Neizer Andrea",
                                    "FoglalasokSzama": "4"
                                },
                                {
                                    "Sorrend": "140",
                                    "USERNEV": "ATTILAO",
                                    "NEV": "Opra Attila",
                                    "FoglalasokSzama": "4"
                                },
                                {
                                    "Sorrend": "141",
                                    "USERNEV": "ferenc1",
                                    "NEV": "Orosz Ferenc",
                                    "FoglalasokSzama": "4"
                                },
                                {
                                    "Sorrend": "142",
                                    "USERNEV": "ESZTERE",
                                    "NEV": "Érsek Eszter",
                                    "FoglalasokSzama": "4"
                                },
                                {
                                    "Sorrend": "143",
                                    "USERNEV": "eszter",
                                    "NEV": "Molnár Eszter",
                                    "FoglalasokSzama": "4"
                                },
                                {
                                    "Sorrend": "144",
                                    "USERNEV": "debora",
                                    "NEV": "Barna Debóra",
                                    "FoglalasokSzama": "4"
                                },
                                {
                                    "Sorrend": "145",
                                    "USERNEV": "eszter4",
                                    "NEV": "Fülöp Eszter",
                                    "FoglalasokSzama": "3"
                                },
                                {
                                    "Sorrend": "146",
                                    "USERNEV": "balint",
                                    "NEV": "Horváth Bálint",
                                    "FoglalasokSzama": "3"
                                },
                                {
                                    "Sorrend": "147",
                                    "USERNEV": "ANDREAT",
                                    "NEV": "Tornyos Andrea",
                                    "FoglalasokSzama": "3"
                                },
                                {
                                    "Sorrend": "148",
                                    "USERNEV": "aniko",
                                    "NEV": "Tóth Anikó",
                                    "FoglalasokSzama": "3"
                                },
                                {
                                    "Sorrend": "149",
                                    "USERNEV": "attila4",
                                    "NEV": "Baróti Attila",
                                    "FoglalasokSzama": "3"
                                },
                                {
                                    "Sorrend": "150",
                                    "USERNEV": "attila",
                                    "NEV": "Csóti Attila",
                                    "FoglalasokSzama": "3"
                                },
                                {
                                    "Sorrend": "151",
                                    "USERNEV": "andras4",
                                    "NEV": "Back András",
                                    "FoglalasokSzama": "3"
                                },
                                {
                                    "Sorrend": "152",
                                    "USERNEV": "agnes3",
                                    "NEV": "Hartyánszky Ágnes",
                                    "FoglalasokSzama": "3"
                                },
                                {
                                    "Sorrend": "153",
                                    "USERNEV": "adam1",
                                    "NEV": "Kiss Ádám",
                                    "FoglalasokSzama": "3"
                                },
                                {
                                    "Sorrend": "154",
                                    "USERNEV": "AGNESK",
                                    "NEV": "Kovács Ágnes",
                                    "FoglalasokSzama": "3"
                                },
                                {
                                    "Sorrend": "155",
                                    "USERNEV": "aladar",
                                    "NEV": "Dunai Aladár",
                                    "FoglalasokSzama": "3"
                                },
                                {
                                    "Sorrend": "156",
                                    "USERNEV": "henrik3",
                                    "NEV": "Nádudvari Henrik",
                                    "FoglalasokSzama": "3"
                                },
                                {
                                    "Sorrend": "157",
                                    "USERNEV": "IBOLYAA",
                                    "NEV": "Andor Ibolya",
                                    "FoglalasokSzama": "3"
                                },
                                {
                                    "Sorrend": "158",
                                    "USERNEV": "istvan",
                                    "NEV": "Soós István",
                                    "FoglalasokSzama": "3"
                                },
                                {
                                    "Sorrend": "159",
                                    "USERNEV": "klaudia2",
                                    "NEV": "Bakó Klaudia",
                                    "FoglalasokSzama": "3"
                                },
                                {
                                    "Sorrend": "160",
                                    "USERNEV": "kornel4",
                                    "NEV": "Lukács Kornél",
                                    "FoglalasokSzama": "3"
                                },
                                {
                                    "Sorrend": "161",
                                    "USERNEV": "jozsef",
                                    "NEV": "Gergely József",
                                    "FoglalasokSzama": "3"
                                },
                                {
                                    "Sorrend": "162",
                                    "USERNEV": "JUDITH",
                                    "NEV": "Hídasi Judit",
                                    "FoglalasokSzama": "3"
                                },
                                {
                                    "Sorrend": "163",
                                    "USERNEV": "MATEK",
                                    "NEV": "Koza Máté",
                                    "FoglalasokSzama": "3"
                                },
                                {
                                    "Sorrend": "164",
                                    "USERNEV": "lajos",
                                    "NEV": "Kiss Lajos",
                                    "FoglalasokSzama": "3"
                                },
                                {
                                    "Sorrend": "165",
                                    "USERNEV": "NANDORF",
                                    "NEV": "Fő Nándor",
                                    "FoglalasokSzama": "3"
                                },
                                {
                                    "Sorrend": "166",
                                    "USERNEV": "miklos2",
                                    "NEV": "Gondos Miklós",
                                    "FoglalasokSzama": "3"
                                },
                                {
                                    "Sorrend": "167",
                                    "USERNEV": "MIKLOSB",
                                    "NEV": "Balla Miklós",
                                    "FoglalasokSzama": "3"
                                },
                                {
                                    "Sorrend": "168",
                                    "USERNEV": "norbert5",
                                    "NEV": "Béres Norbert",
                                    "FoglalasokSzama": "3"
                                },
                                {
                                    "Sorrend": "169",
                                    "USERNEV": "ZOLTANT",
                                    "NEV": "Tóth Zoltán",
                                    "FoglalasokSzama": "3"
                                },
                                {
                                    "Sorrend": "170",
                                    "USERNEV": "zsuzsa",
                                    "NEV": "Pusztai Zsuzsanna",
                                    "FoglalasokSzama": "3"
                                },
                                {
                                    "Sorrend": "171",
                                    "USERNEV": "roza2",
                                    "NEV": "Bucskó Róza",
                                    "FoglalasokSzama": "3"
                                },
                                {
                                    "Sorrend": "172",
                                    "USERNEV": "ROBERTP",
                                    "NEV": "Pásztor Róbert",
                                    "FoglalasokSzama": "2"
                                },
                                {
                                    "Sorrend": "173",
                                    "USERNEV": "VIKTORK",
                                    "NEV": "Keresztúri Viktor",
                                    "FoglalasokSzama": "2"
                                },
                                {
                                    "Sorrend": "174",
                                    "USERNEV": "tibor",
                                    "NEV": "Gombos Tibor",
                                    "FoglalasokSzama": "2"
                                },
                                {
                                    "Sorrend": "175",
                                    "USERNEV": "tamara2",
                                    "NEV": "Miklós Tamara",
                                    "FoglalasokSzama": "2"
                                },
                                {
                                    "Sorrend": "176",
                                    "USERNEV": "zoltan",
                                    "NEV": "Fodor Zoltán",
                                    "FoglalasokSzama": "2"
                                },
                                {
                                    "Sorrend": "177",
                                    "USERNEV": "zsofi1",
                                    "NEV": "Molnár Zsófi",
                                    "FoglalasokSzama": "2"
                                },
                                {
                                    "Sorrend": "178",
                                    "USERNEV": "matyas2",
                                    "NEV": "Botka Mátyás",
                                    "FoglalasokSzama": "2"
                                },
                                {
                                    "Sorrend": "179",
                                    "USERNEV": "julia4",
                                    "NEV": "Nagy Júlia",
                                    "FoglalasokSzama": "2"
                                },
                                {
                                    "Sorrend": "180",
                                    "USERNEV": "kristof4",
                                    "NEV": "Poprádi Kristóf",
                                    "FoglalasokSzama": "2"
                                },
                                {
                                    "Sorrend": "181",
                                    "USERNEV": "ISTVANV",
                                    "NEV": "Varga István",
                                    "FoglalasokSzama": "2"
                                },
                                {
                                    "Sorrend": "182",
                                    "USERNEV": "imre",
                                    "NEV": "Búza Imre",
                                    "FoglalasokSzama": "2"
                                },
                                {
                                    "Sorrend": "183",
                                    "USERNEV": "adam3",
                                    "NEV": "Barkóci Ádám",
                                    "FoglalasokSzama": "2"
                                },
                                {
                                    "Sorrend": "184",
                                    "USERNEV": "annamaria1",
                                    "NEV": "Szűcs Annamária",
                                    "FoglalasokSzama": "2"
                                },
                                {
                                    "Sorrend": "185",
                                    "USERNEV": "balint2",
                                    "NEV": "Vukasinovity Bálint",
                                    "FoglalasokSzama": "2"
                                },
                                {
                                    "Sorrend": "186",
                                    "USERNEV": "balu",
                                    "NEV": "Endresz Bálint",
                                    "FoglalasokSzama": "2"
                                },
                                {
                                    "Sorrend": "187",
                                    "USERNEV": "eva",
                                    "NEV": "Enyedi Éva",
                                    "FoglalasokSzama": "2"
                                },
                                {
                                    "Sorrend": "188",
                                    "USERNEV": "david4",
                                    "NEV": "Berta Dávid",
                                    "FoglalasokSzama": "1"
                                },
                                {
                                    "Sorrend": "189",
                                    "USERNEV": "ANDRASN",
                                    "NEV": "Nagy András",
                                    "FoglalasokSzama": "1"
                                },
                                {
                                    "Sorrend": "190",
                                    "USERNEV": "andrea3",
                                    "NEV": "Szomor Andrea",
                                    "FoglalasokSzama": "1"
                                },
                                {
                                    "Sorrend": "191",
                                    "USERNEV": "gabriella10",
                                    "NEV": "Vida Gabriella",
                                    "FoglalasokSzama": "1"
                                },
                                {
                                    "Sorrend": "192",
                                    "USERNEV": "laszlo1",
                                    "NEV": "Farkas László",
                                    "FoglalasokSzama": "1"
                                },
                                {
                                    "Sorrend": "193",
                                    "USERNEV": "tibor2",
                                    "NEV": "Dániel Tibor",
                                    "FoglalasokSzama": "1"
                                },
                                {
                                    "Sorrend": "194",
                                    "USERNEV": "timea",
                                    "NEV": "Papós Tímea",
                                    "FoglalasokSzama": "1"
                                },
                                {
                                    "Sorrend": "195",
                                    "USERNEV": "szabolcs",
                                    "NEV": "Bodor Szabolcs",
                                    "FoglalasokSzama": "1"
                                }
                            ]
                        },
                        "text/html": [
                            "<table>",
                            "<tr><th>Sorrend</th><th>USERNEV</th><th>NEV</th><th>FoglalasokSzama</th></tr>",
                            "<tr><td>1</td><td>andras41</td><td>Komjáti András</td><td>13</td></tr>",
                            "<tr><td>2</td><td>ARONK</td><td>Kelemen Áron</td><td>13</td></tr>",
                            "<tr><td>3</td><td>krisztian4</td><td>Czérna Krisztián</td><td>12</td></tr>",
                            "<tr><td>4</td><td>peter4</td><td>Bíró Péter</td><td>12</td></tr>",
                            "<tr><td>5</td><td>sara</td><td>Farkas Sára</td><td>12</td></tr>",
                            "<tr><td>6</td><td>zoltan4</td><td>Barna Zoltán</td><td>12</td></tr>",
                            "<tr><td>7</td><td>kata</td><td>Gondos Katalin</td><td>10</td></tr>",
                            "<tr><td>8</td><td>akos</td><td>Bíró Ákos</td><td>10</td></tr>",
                            "<tr><td>9</td><td>balazs2</td><td>Szűcs Balázs</td><td>10</td></tr>",
                            "<tr><td>10</td><td>balint1</td><td>Molnár Bálint</td><td>10</td></tr>",
                            "<tr><td>11</td><td>eszter2</td><td>Balogh Eszter</td><td>10</td></tr>",
                            "<tr><td>12</td><td>dani</td><td>Vörös Dániel</td><td>9</td></tr>",
                            "<tr><td>13</td><td>daniel</td><td>Rácz Dániel</td><td>9</td></tr>",
                            "<tr><td>14</td><td>david</td><td>Ambrus Dávid</td><td>9</td></tr>",
                            "<tr><td>15</td><td>BEATRIXK</td><td>Kerényi Beatrix</td><td>9</td></tr>",
                            "<tr><td>16</td><td>bence</td><td>Győrffy Bence</td><td>9</td></tr>",
                            "<tr><td>17</td><td>ANIKOS</td><td>Simon Anikó</td><td>9</td></tr>",
                            "<tr><td>18</td><td>katalin</td><td>Horváth Katalin</td><td>9</td></tr>",
                            "<tr><td>19</td><td>katka</td><td>Kovács Katalin</td><td>9</td></tr>",
                            "<tr><td>20</td><td>norbert4</td><td>Mile Norbert</td><td>9</td></tr>",
                            "<tr><td>21</td><td>szilvia1</td><td>Tari Szilvia</td><td>9</td></tr>",
                            "<tr><td>22</td><td>TAMASF</td><td>Fényes Tamás</td><td>9</td></tr>",
                            "<tr><td>23</td><td>tunde</td><td>Turcsik Tünde</td><td>8</td></tr>",
                            "<tr><td>24</td><td>ROBERTI</td><td>Iván Róbert</td><td>8</td></tr>",
                            "<tr><td>25</td><td>MATYASS</td><td>Szilágyi Mátyás</td><td>8</td></tr>",
                            "<tr><td>26</td><td>krisztina</td><td>Szedlár Krisztina</td><td>8</td></tr>",
                            "<tr><td>27</td><td>maria1</td><td>Baráth Mária</td><td>8</td></tr>",
                            "<tr><td>28</td><td>fruzsina4</td><td>Frank Fruzsina</td><td>8</td></tr>",
                            "<tr><td>29</td><td>GYORGYO</td><td>Oroszi György</td><td>8</td></tr>",
                            "<tr><td>30</td><td>anett3</td><td>Pivarcsi Anett</td><td>8</td></tr>",
                            "<tr><td>31</td><td>andras3</td><td>Vígh András</td><td>8</td></tr>",
                            "<tr><td>32</td><td>bernadett2</td><td>Kovács Bernadett</td><td>8</td></tr>",
                            "<tr><td>33</td><td>csongor3</td><td>Nagymihály Csongor</td><td>8</td></tr>",
                            "<tr><td>34</td><td>daniel1</td><td>Keszler Dániel</td><td>7</td></tr>",
                            "<tr><td>35</td><td>edit</td><td>Bittmann Edit</td><td>7</td></tr>",
                            "<tr><td>36</td><td>emese</td><td>Kuruc Emese</td><td>7</td></tr>",
                            "<tr><td>37</td><td>BERNADETTO</td><td>Orbán Bernadett</td><td>7</td></tr>",
                            "<tr><td>38</td><td>bernadett1</td><td>Simon Bernadett</td><td>7</td></tr>",
                            "<tr><td>39</td><td>alexandra</td><td>Bagóczki Alexandra</td><td>7</td></tr>",
                            "<tr><td>40</td><td>andras21</td><td>Molnár András</td><td>7</td></tr>",
                            "<tr><td>41</td><td>arpad2</td><td>Ötvös Árpád</td><td>7</td></tr>",
                            "<tr><td>42</td><td>ARPADH</td><td>Horváth Árpád</td><td>7</td></tr>",
                            "<tr><td>43</td><td>imre1</td><td>Papp Imre</td><td>7</td></tr>",
                            "<tr><td>44</td><td>GYONGYIK</td><td>Kornseé Gyöngyi</td><td>7</td></tr>",
                            "<tr><td>45</td><td>kati</td><td>Zatykó Katalin</td><td>7</td></tr>",
                            "<tr><td>46</td><td>JANOSG</td><td>Giliga János</td><td>7</td></tr>",
                            "<tr><td>47</td><td>JOZSEFG</td><td>Gyuris József</td><td>7</td></tr>",
                            "<tr><td>48</td><td>marton</td><td>Kalacsi Márton</td><td>7</td></tr>",
                            "<tr><td>49</td><td>nikoletta4</td><td>Kő Nikoletta</td><td>7</td></tr>",
                            "<tr><td>50</td><td>norbert2</td><td>Hegedűs Norbert</td><td>7</td></tr>",
                            "<tr><td>51</td><td>SZABOLCSM</td><td>Miklós Szabolcs</td><td>7</td></tr>",
                            "<tr><td>52</td><td>SZILARDS</td><td>Szalai Szilárd</td><td>7</td></tr>",
                            "<tr><td>53</td><td>vivien3</td><td>Boros Vivien</td><td>7</td></tr>",
                            "<tr><td>54</td><td>ZSOLTJ</td><td>Józsa Zsolt</td><td>6</td></tr>",
                            "<tr><td>55</td><td>ZOLTANP</td><td>Pintér Zoltán</td><td>6</td></tr>",
                            "<tr><td>56</td><td>ZSUZSAV</td><td>Vajda Zsuzsa</td><td>6</td></tr>",
                            "<tr><td>57</td><td>veronika4</td><td>Tankó Veronika</td><td>6</td></tr>",
                            "<tr><td>58</td><td>tihamer</td><td>Kazy Tihamér</td><td>6</td></tr>",
                            "<tr><td>59</td><td>RENATAK</td><td>Kardos Renáta</td><td>6</td></tr>",
                            "<tr><td>60</td><td>polla</td><td>Palágyi Polla</td><td>6</td></tr>",
                            "<tr><td>61</td><td>peter3</td><td>Szalai Péter</td><td>6</td></tr>",
                            "<tr><td>62</td><td>MONIKAM</td><td>Mohos Mónika</td><td>6</td></tr>",
                            "<tr><td>63</td><td>kriszti</td><td>Horváth Krisztina</td><td>6</td></tr>",
                            "<tr><td>64</td><td>LASZLON</td><td>Nagy László</td><td>6</td></tr>",
                            "<tr><td>65</td><td>krisztina1</td><td>Bori Krisztina</td><td>6</td></tr>",
                            "<tr><td>66</td><td>KRISZTIANM</td><td>Mogyródi Krisztián</td><td>6</td></tr>",
                            "<tr><td>67</td><td>lala</td><td>Nagymihály Lajos</td><td>6</td></tr>",
                            "<tr><td>68</td><td>katalin4</td><td>Kertész Katalin</td><td>6</td></tr>",
                            "<tr><td>69</td><td>gabor1</td><td>Köves Gábor</td><td>6</td></tr>",
                            "<tr><td>70</td><td>gabriella1</td><td>Nagy Gabriella</td><td>6</td></tr>",
                            "<tr><td>71</td><td>ARPADM</td><td>Móricz Árpád</td><td>6</td></tr>",
                            "<tr><td>72</td><td>ANNAMARIAR</td><td>Regős Annamária</td><td>6</td></tr>",
                            "<tr><td>73</td><td>aron2</td><td>Jakab Áron</td><td>6</td></tr>",
                            "<tr><td>74</td><td>attila1</td><td>Gulyás Attila</td><td>6</td></tr>",
                            "<tr><td>75</td><td>andrea</td><td>Kiss Andrea</td><td>6</td></tr>",
                            "<tr><td>76</td><td>AGNESH</td><td>Horváth Ágnes</td><td>6</td></tr>",
                            "<tr><td>77</td><td>adam4</td><td>Bieniek Ádám</td><td>6</td></tr>",
                            "<tr><td>78</td><td>beata4</td><td>Bagi Beáta</td><td>6</td></tr>",
                            "<tr><td>79</td><td>BENCEB</td><td>Bajusz Bence</td><td>6</td></tr>",
                            "<tr><td>80</td><td>bertalan</td><td>Csiger Bertalan</td><td>6</td></tr>",
                            "<tr><td>81</td><td>BEATRIXS</td><td>Szekendi Beatrix</td><td>6</td></tr>",
                            "<tr><td>82</td><td>BELAF</td><td>Farkas Béla</td><td>6</td></tr>",
                            "<tr><td>83</td><td>balazs3</td><td>Bakódy Balázs</td><td>6</td></tr>",
                            "<tr><td>84</td><td>balazs1</td><td>Bozsik Balázs</td><td>6</td></tr>",
                            "<tr><td>85</td><td>david1</td><td>Sobják Dávid</td><td>6</td></tr>",
                            "<tr><td>86</td><td>denes</td><td>Tömböly Dénes</td><td>6</td></tr>",
                            "<tr><td>87</td><td>dora3</td><td>Sarodi Dóra</td><td>5</td></tr>",
                            "<tr><td>88</td><td>EVAV</td><td>Viktor Éva</td><td>5</td></tr>",
                            "<tr><td>89</td><td>brigitta</td><td>Székely Brigitta</td><td>5</td></tr>",
                            "<tr><td>90</td><td>brigitta3</td><td>Pataki Brigitta</td><td>5</td></tr>",
                            "<tr><td>91</td><td>agnes</td><td>Lengyel Ágnes</td><td>5</td></tr>",
                            "<tr><td>92</td><td>ANDRASE</td><td>Erdei András</td><td>5</td></tr>",
                            "<tr><td>93</td><td>andi</td><td>Maródi Andrea</td><td>5</td></tr>",
                            "<tr><td>94</td><td>andras2</td><td>Tóth András</td><td>5</td></tr>",
                            "<tr><td>95</td><td>gusztav</td><td>Bárci Gusztáv</td><td>5</td></tr>",
                            "<tr><td>96</td><td>julia</td><td>Tóth Júlia</td><td>5</td></tr>",
                            "<tr><td>97</td><td>janos3</td><td>Harangozó János</td><td>5</td></tr>",
                            "<tr><td>98</td><td>jozsef2</td><td>Vajda József</td><td>5</td></tr>",
                            "<tr><td>99</td><td>KRISZTINAG</td><td>Gyárfás Krisztina</td><td>5</td></tr>",
                            "<tr><td>100</td><td>laszlo2</td><td>Móra László</td><td>5</td></tr>",
                            "<tr><td>101</td><td>mark</td><td>Kispál Márk</td><td>5</td></tr>",
                            "<tr><td>102</td><td>MIHALYJ</td><td>Juhász Mihály</td><td>5</td></tr>",
                            "<tr><td>103</td><td>pal</td><td>Barabás Pál</td><td>5</td></tr>",
                            "<tr><td>104</td><td>norbert</td><td>Szűcs Norbert</td><td>5</td></tr>",
                            "<tr><td>105</td><td>PETERB</td><td>Berendi Péter</td><td>5</td></tr>",
                            "<tr><td>106</td><td>RENATAS</td><td>Szirmai Renáta</td><td>5</td></tr>",
                            "<tr><td>107</td><td>SEBASTIANF</td><td>Foltényi Sebastián</td><td>5</td></tr>",
                            "<tr><td>108</td><td>reka4</td><td>Szikszai Réka</td><td>5</td></tr>",
                            "<tr><td>109</td><td>timea2</td><td>Dusha Tímea</td><td>5</td></tr>",
                            "<tr><td>110</td><td>valentin</td><td>Feró Valentin</td><td>5</td></tr>",
                            "<tr><td>111</td><td>sandor3</td><td>Farkas Sándor</td><td>5</td></tr>",
                            "<tr><td>112</td><td>sandor4</td><td>Nagy Sándor</td><td>4</td></tr>",
                            "<tr><td>113</td><td>VIKTORIAU</td><td>Urbán Viktoria</td><td>4</td></tr>",
                            "<tr><td>114</td><td>tamas</td><td>Antal Tamás</td><td>4</td></tr>",
                            "<tr><td>115</td><td>sandor</td><td>Karasz Sándor</td><td>4</td></tr>",
                            "<tr><td>116</td><td>roland</td><td>Tóth Roland</td><td>4</td></tr>",
                            "<tr><td>117</td><td>roland1</td><td>Ferencz Roland</td><td>4</td></tr>",
                            "<tr><td>118</td><td>sebestyen</td><td>Rab Sebestyén</td><td>4</td></tr>",
                            "<tr><td>119</td><td>robert2</td><td>Patay Róbert</td><td>4</td></tr>",
                            "<tr><td>120</td><td>rajmond4</td><td>Rácz Rajmond</td><td>4</td></tr>",
                            "<tr><td>121</td><td>zsolt1</td><td>Pulai Zsolt</td><td>4</td></tr>",
                            "<tr><td>122</td><td>zsuzsa3</td><td>Varsányi Zsuzsa</td><td>4</td></tr>",
                            "<tr><td>123</td><td>zsuzsanna</td><td>Barta Zsuzsanna</td><td>4</td></tr>",
                            "<tr><td>124</td><td>nikolett3</td><td>Horváth Nikolett</td><td>4</td></tr>",
                            "<tr><td>125</td><td>peter1</td><td>Kozma Péter</td><td>4</td></tr>",
                            "<tr><td>126</td><td>peter2</td><td>Bozsó Péter</td><td>4</td></tr>",
                            "<tr><td>127</td><td>NIKOLETTAT</td><td>Tatár Nikoletta</td><td>4</td></tr>",
                            "<tr><td>128</td><td>MARKH</td><td>Horváth Márk</td><td>4</td></tr>",
                            "<tr><td>129</td><td>LASZLOA</td><td>Antal László</td><td>4</td></tr>",
                            "<tr><td>130</td><td>JANOSP</td><td>Pálinkás János</td><td>4</td></tr>",
                            "<tr><td>131</td><td>julianna4</td><td>Szabó Julianna</td><td>4</td></tr>",
                            "<tr><td>132</td><td>eva2</td><td>Perlinger Éva</td><td>4</td></tr>",
                            "<tr><td>133</td><td>georgij</td><td>Nyíri Georgij</td><td>4</td></tr>",
                            "<tr><td>134</td><td>gabor4</td><td>Telek Gábor</td><td>4</td></tr>",
                            "<tr><td>135</td><td>istvan1</td><td>Vizi István</td><td>4</td></tr>",
                            "<tr><td>136</td><td>ilona3</td><td>Bosnyák Ilona</td><td>4</td></tr>",
                            "<tr><td>137</td><td>aniko4</td><td>Böröcz Anikó</td><td>4</td></tr>",
                            "<tr><td>138</td><td>anita</td><td>Hamvay-Kovács Anita</td><td>4</td></tr>",
                            "<tr><td>139</td><td>andrea4</td><td>Neizer Andrea</td><td>4</td></tr>",
                            "<tr><td>140</td><td>ATTILAO</td><td>Opra Attila</td><td>4</td></tr>",
                            "<tr><td>141</td><td>ferenc1</td><td>Orosz Ferenc</td><td>4</td></tr>",
                            "<tr><td>142</td><td>ESZTERE</td><td>Érsek Eszter</td><td>4</td></tr>",
                            "<tr><td>143</td><td>eszter</td><td>Molnár Eszter</td><td>4</td></tr>",
                            "<tr><td>144</td><td>debora</td><td>Barna Debóra</td><td>4</td></tr>",
                            "<tr><td>145</td><td>eszter4</td><td>Fülöp Eszter</td><td>3</td></tr>",
                            "<tr><td>146</td><td>balint</td><td>Horváth Bálint</td><td>3</td></tr>",
                            "<tr><td>147</td><td>ANDREAT</td><td>Tornyos Andrea</td><td>3</td></tr>",
                            "<tr><td>148</td><td>aniko</td><td>Tóth Anikó</td><td>3</td></tr>",
                            "<tr><td>149</td><td>attila4</td><td>Baróti Attila</td><td>3</td></tr>",
                            "<tr><td>150</td><td>attila</td><td>Csóti Attila</td><td>3</td></tr>",
                            "<tr><td>151</td><td>andras4</td><td>Back András</td><td>3</td></tr>",
                            "<tr><td>152</td><td>agnes3</td><td>Hartyánszky Ágnes</td><td>3</td></tr>",
                            "<tr><td>153</td><td>adam1</td><td>Kiss Ádám</td><td>3</td></tr>",
                            "<tr><td>154</td><td>AGNESK</td><td>Kovács Ágnes</td><td>3</td></tr>",
                            "<tr><td>155</td><td>aladar</td><td>Dunai Aladár</td><td>3</td></tr>",
                            "<tr><td>156</td><td>henrik3</td><td>Nádudvari Henrik</td><td>3</td></tr>",
                            "<tr><td>157</td><td>IBOLYAA</td><td>Andor Ibolya</td><td>3</td></tr>",
                            "<tr><td>158</td><td>istvan</td><td>Soós István</td><td>3</td></tr>",
                            "<tr><td>159</td><td>klaudia2</td><td>Bakó Klaudia</td><td>3</td></tr>",
                            "<tr><td>160</td><td>kornel4</td><td>Lukács Kornél</td><td>3</td></tr>",
                            "<tr><td>161</td><td>jozsef</td><td>Gergely József</td><td>3</td></tr>",
                            "<tr><td>162</td><td>JUDITH</td><td>Hídasi Judit</td><td>3</td></tr>",
                            "<tr><td>163</td><td>MATEK</td><td>Koza Máté</td><td>3</td></tr>",
                            "<tr><td>164</td><td>lajos</td><td>Kiss Lajos</td><td>3</td></tr>",
                            "<tr><td>165</td><td>NANDORF</td><td>Fő Nándor</td><td>3</td></tr>",
                            "<tr><td>166</td><td>miklos2</td><td>Gondos Miklós</td><td>3</td></tr>",
                            "<tr><td>167</td><td>MIKLOSB</td><td>Balla Miklós</td><td>3</td></tr>",
                            "<tr><td>168</td><td>norbert5</td><td>Béres Norbert</td><td>3</td></tr>",
                            "<tr><td>169</td><td>ZOLTANT</td><td>Tóth Zoltán</td><td>3</td></tr>",
                            "<tr><td>170</td><td>zsuzsa</td><td>Pusztai Zsuzsanna</td><td>3</td></tr>",
                            "<tr><td>171</td><td>roza2</td><td>Bucskó Róza</td><td>3</td></tr>",
                            "<tr><td>172</td><td>ROBERTP</td><td>Pásztor Róbert</td><td>2</td></tr>",
                            "<tr><td>173</td><td>VIKTORK</td><td>Keresztúri Viktor</td><td>2</td></tr>",
                            "<tr><td>174</td><td>tibor</td><td>Gombos Tibor</td><td>2</td></tr>",
                            "<tr><td>175</td><td>tamara2</td><td>Miklós Tamara</td><td>2</td></tr>",
                            "<tr><td>176</td><td>zoltan</td><td>Fodor Zoltán</td><td>2</td></tr>",
                            "<tr><td>177</td><td>zsofi1</td><td>Molnár Zsófi</td><td>2</td></tr>",
                            "<tr><td>178</td><td>matyas2</td><td>Botka Mátyás</td><td>2</td></tr>",
                            "<tr><td>179</td><td>julia4</td><td>Nagy Júlia</td><td>2</td></tr>",
                            "<tr><td>180</td><td>kristof4</td><td>Poprádi Kristóf</td><td>2</td></tr>",
                            "<tr><td>181</td><td>ISTVANV</td><td>Varga István</td><td>2</td></tr>",
                            "<tr><td>182</td><td>imre</td><td>Búza Imre</td><td>2</td></tr>",
                            "<tr><td>183</td><td>adam3</td><td>Barkóci Ádám</td><td>2</td></tr>",
                            "<tr><td>184</td><td>annamaria1</td><td>Szűcs Annamária</td><td>2</td></tr>",
                            "<tr><td>185</td><td>balint2</td><td>Vukasinovity Bálint</td><td>2</td></tr>",
                            "<tr><td>186</td><td>balu</td><td>Endresz Bálint</td><td>2</td></tr>",
                            "<tr><td>187</td><td>eva</td><td>Enyedi Éva</td><td>2</td></tr>",
                            "<tr><td>188</td><td>david4</td><td>Berta Dávid</td><td>1</td></tr>",
                            "<tr><td>189</td><td>ANDRASN</td><td>Nagy András</td><td>1</td></tr>",
                            "<tr><td>190</td><td>andrea3</td><td>Szomor Andrea</td><td>1</td></tr>",
                            "<tr><td>191</td><td>gabriella10</td><td>Vida Gabriella</td><td>1</td></tr>",
                            "<tr><td>192</td><td>laszlo1</td><td>Farkas László</td><td>1</td></tr>",
                            "<tr><td>193</td><td>tibor2</td><td>Dániel Tibor</td><td>1</td></tr>",
                            "<tr><td>194</td><td>timea</td><td>Papós Tímea</td><td>1</td></tr>",
                            "<tr><td>195</td><td>szabolcs</td><td>Bodor Szabolcs</td><td>1</td></tr>",
                            "</table>"
                        ]
                    }
                }
            ],
            "execution_count": 5
        },
        {
            "cell_type": "code",
            "source": [
                "WITH FoglalasSzobankent AS (\r\n",
                "    SELECT \r\n",
                "        'Szobánként, naponta' AS Szempont,\r\n",
                "        SZOBA_FK AS Azonosito, \r\n",
                "        METTOL AS Datum,\r\n",
                "        COUNT(*) AS FoglalasokSzama\r\n",
                "    FROM Foglalas\r\n",
                "    GROUP BY SZOBA_FK, METTOL\r\n",
                "    HAVING COUNT(*) >= 2\r\n",
                "),\r\n",
                "FoglalasNapontaSzobankent AS (\r\n",
                "    SELECT \r\n",
                "        'Naponta, szobánként' AS Szempont,\r\n",
                "        METTOL AS Azonosito,\r\n",
                "        SZOBA_FK AS Datum, \r\n",
                "        COUNT(*) AS FoglalasokSzama\r\n",
                "    FROM Foglalas\r\n",
                "    GROUP BY METTOL, SZOBA_FK\r\n",
                "    HAVING COUNT(*) >= 2\r\n",
                ")\r\n",
                "SELECT * FROM FoglalasSzobankent\r\n",
                "UNION ALL\r\n",
                "SELECT * FROM FoglalasNapontaSzobankent;"
            ],
            "metadata": {
                "azdata_cell_guid": "a1e483aa-ee7f-4506-a6c2-ab552e6d9975",
                "language": "sql"
            },
            "outputs": [
                {
                    "output_type": "error",
                    "evalue": "Msg 206, Level 16, State 2, Line 1\r\nOperand type clash: int is incompatible with date",
                    "ename": "",
                    "traceback": []
                },
                {
                    "output_type": "error",
                    "evalue": "Msg 206, Level 16, State 2, Line 1\r\nOperand type clash: int is incompatible with date",
                    "ename": "",
                    "traceback": []
                },
                {
                    "output_type": "display_data",
                    "data": {
                        "text/html": "Total execution time: 00:00:00.002"
                    },
                    "metadata": {}
                }
            ],
            "execution_count": 6
        },
        {
            "cell_type": "code",
            "source": [
                "SELECT \r\n",
                "    COUNT(DISTINCT Ferohely) AS Kulonbozo,\r\n",
                "    MIN(Ferohely) AS Minimum,\r\n",
                "    MAX(Ferohely) AS Maximum,\r\n",
                "    AVG(Ferohely) AS Atlag,\r\n",
                "    (COUNT(CASE WHEN Ferohely IS NULL THEN 1 END) * 100.0 / COUNT(*)) AS Nullarany,\r\n",
                "    (COUNT(CASE WHEN Ferohely IS NOT NULL THEN 1 END) * 100.0 / COUNT(*)) AS NotNullarany\r\n",
                "FROM Szoba;"
            ],
            "metadata": {
                "azdata_cell_guid": "9ea7097e-cbab-4b99-a644-2a5e509c5146",
                "language": "sql",
                "tags": [
                    "hide_input"
                ]
            },
            "outputs": [
                {
                    "output_type": "display_data",
                    "data": {
                        "text/html": "Warning: Null value is eliminated by an aggregate or other SET operation."
                    },
                    "metadata": {}
                },
                {
                    "output_type": "display_data",
                    "data": {
                        "text/html": "(1 row affected)"
                    },
                    "metadata": {}
                },
                {
                    "output_type": "display_data",
                    "data": {
                        "text/html": "Total execution time: 00:00:00.011"
                    },
                    "metadata": {}
                },
                {
                    "output_type": "execute_result",
                    "metadata": {},
                    "execution_count": 2,
                    "data": {
                        "application/vnd.dataresource+json": {
                            "schema": {
                                "fields": [
                                    {
                                        "name": "Kulonbozo"
                                    },
                                    {
                                        "name": "Minimum"
                                    },
                                    {
                                        "name": "Maximum"
                                    },
                                    {
                                        "name": "Atlag"
                                    },
                                    {
                                        "name": "Nullarany"
                                    },
                                    {
                                        "name": "NotNullarany"
                                    }
                                ]
                            },
                            "data": [
                                {
                                    "Kulonbozo": "4",
                                    "Minimum": "1",
                                    "Maximum": "4",
                                    "Atlag": "2",
                                    "Nullarany": "0.000000000000",
                                    "NotNullarany": "100.000000000000"
                                }
                            ]
                        },
                        "text/html": [
                            "<table>",
                            "<tr><th>Kulonbozo</th><th>Minimum</th><th>Maximum</th><th>Atlag</th><th>Nullarany</th><th>NotNullarany</th></tr>",
                            "<tr><td>4</td><td>1</td><td>4</td><td>2</td><td>0.000000000000</td><td>100.000000000000</td></tr>",
                            "</table>"
                        ]
                    }
                }
            ],
            "execution_count": 2
        }
    ]
}