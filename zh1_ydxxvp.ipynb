{
    "metadata": {
        "kernelspec": {
            "name": "SQL",
            "display_name": "SQL",
            "language": "sql"
        },
        "language_info": {
            "name": "sql",
            "version": ""
        }
    },
    "nbformat_minor": 2,
    "nbformat": 4,
    "cells": [
        {
            "cell_type": "code",
            "source": [
                "SELECT COUNT(*) AS Foglalások_száma\r\n",
                "FROM Foglalas\r\n",
                "WHERE YEAR(METTOL) = YEAR(MEDDIG)\r\n",
                "  AND MONTH(METTOL) != MONTH(MEDDIG);"
            ],
            "metadata": {
                "azdata_cell_guid": "ebdd2c88-6ee7-4fe6-8bcc-ec27400c905b",
                "language": "sql"
            },
            "outputs": [
                {
                    "output_type": "display_data",
                    "data": {
                        "text/html": "(1 row affected)"
                    },
                    "metadata": {}
                },
                {
                    "output_type": "display_data",
                    "data": {
                        "text/html": "Total execution time: 00:00:00.004"
                    },
                    "metadata": {}
                },
                {
                    "output_type": "execute_result",
                    "metadata": {},
                    "execution_count": 29,
                    "data": {
                        "application/vnd.dataresource+json": {
                            "schema": {
                                "fields": [
                                    {
                                        "name": "Foglalások_száma"
                                    }
                                ]
                            },
                            "data": [
                                {
                                    "Foglalások_száma": "131"
                                }
                            ]
                        },
                        "text/html": [
                            "<table>",
                            "<tr><th>Foglalások_száma</th></tr>",
                            "<tr><td>131</td></tr>",
                            "</table>"
                        ]
                    }
                }
            ],
            "execution_count": 29
        },
        {
            "cell_type": "code",
            "source": [
                "SELECT SZOBA_FK, COUNT(*) AS Foglalások_szama\r\n",
                "FROM Foglalas\r\n",
                "WHERE FELNOTT_SZAM > GYERMEK_SZAM\r\n",
                "GROUP BY SZOBA_FK\r\n",
                "HAVING COUNT(*) > 2\r\n",
                "ORDER BY COUNT(*) ASC;"
            ],
            "metadata": {
                "azdata_cell_guid": "e7bf92f1-cc01-4db7-9b73-18b0480d6c33",
                "language": "sql",
                "tags": []
            },
            "outputs": [
                {
                    "output_type": "display_data",
                    "data": {
                        "text/html": "(130 rows affected)"
                    },
                    "metadata": {}
                },
                {
                    "output_type": "display_data",
                    "data": {
                        "text/html": "Total execution time: 00:00:00.008"
                    },
                    "metadata": {}
                },
                {
                    "output_type": "execute_result",
                    "metadata": {},
                    "execution_count": 30,
                    "data": {
                        "application/vnd.dataresource+json": {
                            "schema": {
                                "fields": [
                                    {
                                        "name": "SZOBA_FK"
                                    },
                                    {
                                        "name": "Foglalások_szama"
                                    }
                                ]
                            },
                            "data": [
                                {
                                    "SZOBA_FK": "3",
                                    "Foglalások_szama": "3"
                                },
                                {
                                    "SZOBA_FK": "14",
                                    "Foglalások_szama": "3"
                                },
                                {
                                    "SZOBA_FK": "23",
                                    "Foglalások_szama": "3"
                                },
                                {
                                    "SZOBA_FK": "24",
                                    "Foglalások_szama": "3"
                                },
                                {
                                    "SZOBA_FK": "29",
                                    "Foglalások_szama": "3"
                                },
                                {
                                    "SZOBA_FK": "33",
                                    "Foglalások_szama": "3"
                                },
                                {
                                    "SZOBA_FK": "34",
                                    "Foglalások_szama": "3"
                                },
                                {
                                    "SZOBA_FK": "18",
                                    "Foglalások_szama": "3"
                                },
                                {
                                    "SZOBA_FK": "40",
                                    "Foglalások_szama": "3"
                                },
                                {
                                    "SZOBA_FK": "46",
                                    "Foglalások_szama": "3"
                                },
                                {
                                    "SZOBA_FK": "50",
                                    "Foglalások_szama": "3"
                                },
                                {
                                    "SZOBA_FK": "51",
                                    "Foglalások_szama": "3"
                                },
                                {
                                    "SZOBA_FK": "55",
                                    "Foglalások_szama": "3"
                                },
                                {
                                    "SZOBA_FK": "57",
                                    "Foglalások_szama": "3"
                                },
                                {
                                    "SZOBA_FK": "62",
                                    "Foglalások_szama": "3"
                                },
                                {
                                    "SZOBA_FK": "63",
                                    "Foglalások_szama": "3"
                                },
                                {
                                    "SZOBA_FK": "66",
                                    "Foglalások_szama": "3"
                                },
                                {
                                    "SZOBA_FK": "77",
                                    "Foglalások_szama": "3"
                                },
                                {
                                    "SZOBA_FK": "78",
                                    "Foglalások_szama": "3"
                                },
                                {
                                    "SZOBA_FK": "81",
                                    "Foglalások_szama": "3"
                                },
                                {
                                    "SZOBA_FK": "84",
                                    "Foglalások_szama": "3"
                                },
                                {
                                    "SZOBA_FK": "90",
                                    "Foglalások_szama": "3"
                                },
                                {
                                    "SZOBA_FK": "93",
                                    "Foglalások_szama": "3"
                                },
                                {
                                    "SZOBA_FK": "95",
                                    "Foglalások_szama": "3"
                                },
                                {
                                    "SZOBA_FK": "104",
                                    "Foglalások_szama": "3"
                                },
                                {
                                    "SZOBA_FK": "122",
                                    "Foglalások_szama": "3"
                                },
                                {
                                    "SZOBA_FK": "129",
                                    "Foglalások_szama": "3"
                                },
                                {
                                    "SZOBA_FK": "135",
                                    "Foglalások_szama": "3"
                                },
                                {
                                    "SZOBA_FK": "146",
                                    "Foglalások_szama": "3"
                                },
                                {
                                    "SZOBA_FK": "154",
                                    "Foglalások_szama": "3"
                                },
                                {
                                    "SZOBA_FK": "155",
                                    "Foglalások_szama": "3"
                                },
                                {
                                    "SZOBA_FK": "158",
                                    "Foglalások_szama": "3"
                                },
                                {
                                    "SZOBA_FK": "161",
                                    "Foglalások_szama": "3"
                                },
                                {
                                    "SZOBA_FK": "152",
                                    "Foglalások_szama": "3"
                                },
                                {
                                    "SZOBA_FK": "166",
                                    "Foglalások_szama": "3"
                                },
                                {
                                    "SZOBA_FK": "169",
                                    "Foglalások_szama": "3"
                                },
                                {
                                    "SZOBA_FK": "170",
                                    "Foglalások_szama": "3"
                                },
                                {
                                    "SZOBA_FK": "173",
                                    "Foglalások_szama": "3"
                                },
                                {
                                    "SZOBA_FK": "175",
                                    "Foglalások_szama": "3"
                                },
                                {
                                    "SZOBA_FK": "183",
                                    "Foglalások_szama": "3"
                                },
                                {
                                    "SZOBA_FK": "191",
                                    "Foglalások_szama": "3"
                                },
                                {
                                    "SZOBA_FK": "184",
                                    "Foglalások_szama": "4"
                                },
                                {
                                    "SZOBA_FK": "174",
                                    "Foglalások_szama": "4"
                                },
                                {
                                    "SZOBA_FK": "153",
                                    "Foglalások_szama": "4"
                                },
                                {
                                    "SZOBA_FK": "164",
                                    "Foglalások_szama": "4"
                                },
                                {
                                    "SZOBA_FK": "141",
                                    "Foglalások_szama": "4"
                                },
                                {
                                    "SZOBA_FK": "131",
                                    "Foglalások_szama": "4"
                                },
                                {
                                    "SZOBA_FK": "132",
                                    "Foglalások_szama": "4"
                                },
                                {
                                    "SZOBA_FK": "133",
                                    "Foglalások_szama": "4"
                                },
                                {
                                    "SZOBA_FK": "134",
                                    "Foglalások_szama": "4"
                                },
                                {
                                    "SZOBA_FK": "124",
                                    "Foglalások_szama": "4"
                                },
                                {
                                    "SZOBA_FK": "126",
                                    "Foglalások_szama": "4"
                                },
                                {
                                    "SZOBA_FK": "117",
                                    "Foglalások_szama": "4"
                                },
                                {
                                    "SZOBA_FK": "119",
                                    "Foglalások_szama": "4"
                                },
                                {
                                    "SZOBA_FK": "106",
                                    "Foglalások_szama": "4"
                                },
                                {
                                    "SZOBA_FK": "107",
                                    "Foglalások_szama": "4"
                                },
                                {
                                    "SZOBA_FK": "98",
                                    "Foglalások_szama": "4"
                                },
                                {
                                    "SZOBA_FK": "99",
                                    "Foglalások_szama": "4"
                                },
                                {
                                    "SZOBA_FK": "112",
                                    "Foglalások_szama": "4"
                                },
                                {
                                    "SZOBA_FK": "54",
                                    "Foglalások_szama": "4"
                                },
                                {
                                    "SZOBA_FK": "86",
                                    "Foglalások_szama": "4"
                                },
                                {
                                    "SZOBA_FK": "73",
                                    "Foglalások_szama": "4"
                                },
                                {
                                    "SZOBA_FK": "79",
                                    "Foglalások_szama": "4"
                                },
                                {
                                    "SZOBA_FK": "59",
                                    "Foglalások_szama": "4"
                                },
                                {
                                    "SZOBA_FK": "61",
                                    "Foglalások_szama": "4"
                                },
                                {
                                    "SZOBA_FK": "45",
                                    "Foglalások_szama": "4"
                                },
                                {
                                    "SZOBA_FK": "43",
                                    "Foglalások_szama": "4"
                                },
                                {
                                    "SZOBA_FK": "13",
                                    "Foglalások_szama": "4"
                                },
                                {
                                    "SZOBA_FK": "39",
                                    "Foglalások_szama": "4"
                                },
                                {
                                    "SZOBA_FK": "19",
                                    "Foglalások_szama": "4"
                                },
                                {
                                    "SZOBA_FK": "36",
                                    "Foglalások_szama": "4"
                                },
                                {
                                    "SZOBA_FK": "15",
                                    "Foglalások_szama": "4"
                                },
                                {
                                    "SZOBA_FK": "9",
                                    "Foglalások_szama": "4"
                                },
                                {
                                    "SZOBA_FK": "10",
                                    "Foglalások_szama": "4"
                                },
                                {
                                    "SZOBA_FK": "11",
                                    "Foglalások_szama": "4"
                                },
                                {
                                    "SZOBA_FK": "4",
                                    "Foglalások_szama": "5"
                                },
                                {
                                    "SZOBA_FK": "6",
                                    "Foglalások_szama": "5"
                                },
                                {
                                    "SZOBA_FK": "8",
                                    "Foglalások_szama": "5"
                                },
                                {
                                    "SZOBA_FK": "27",
                                    "Foglalások_szama": "5"
                                },
                                {
                                    "SZOBA_FK": "28",
                                    "Foglalások_szama": "5"
                                },
                                {
                                    "SZOBA_FK": "38",
                                    "Foglalások_szama": "5"
                                },
                                {
                                    "SZOBA_FK": "20",
                                    "Foglalások_szama": "5"
                                },
                                {
                                    "SZOBA_FK": "42",
                                    "Foglalások_szama": "5"
                                },
                                {
                                    "SZOBA_FK": "49",
                                    "Foglalások_szama": "5"
                                },
                                {
                                    "SZOBA_FK": "52",
                                    "Foglalások_szama": "5"
                                },
                                {
                                    "SZOBA_FK": "80",
                                    "Foglalások_szama": "5"
                                },
                                {
                                    "SZOBA_FK": "64",
                                    "Foglalások_szama": "5"
                                },
                                {
                                    "SZOBA_FK": "82",
                                    "Foglalások_szama": "5"
                                },
                                {
                                    "SZOBA_FK": "83",
                                    "Foglalások_szama": "5"
                                },
                                {
                                    "SZOBA_FK": "87",
                                    "Foglalások_szama": "5"
                                },
                                {
                                    "SZOBA_FK": "88",
                                    "Foglalások_szama": "5"
                                },
                                {
                                    "SZOBA_FK": "97",
                                    "Foglalások_szama": "5"
                                },
                                {
                                    "SZOBA_FK": "92",
                                    "Foglalások_szama": "5"
                                },
                                {
                                    "SZOBA_FK": "115",
                                    "Foglalások_szama": "5"
                                },
                                {
                                    "SZOBA_FK": "110",
                                    "Foglalások_szama": "5"
                                },
                                {
                                    "SZOBA_FK": "121",
                                    "Foglalások_szama": "5"
                                },
                                {
                                    "SZOBA_FK": "123",
                                    "Foglalások_szama": "5"
                                },
                                {
                                    "SZOBA_FK": "127",
                                    "Foglalások_szama": "5"
                                },
                                {
                                    "SZOBA_FK": "130",
                                    "Foglalások_szama": "5"
                                },
                                {
                                    "SZOBA_FK": "143",
                                    "Foglalások_szama": "5"
                                },
                                {
                                    "SZOBA_FK": "138",
                                    "Foglalások_szama": "5"
                                },
                                {
                                    "SZOBA_FK": "163",
                                    "Foglalások_szama": "5"
                                },
                                {
                                    "SZOBA_FK": "148",
                                    "Foglalások_szama": "5"
                                },
                                {
                                    "SZOBA_FK": "149",
                                    "Foglalások_szama": "5"
                                },
                                {
                                    "SZOBA_FK": "165",
                                    "Foglalások_szama": "5"
                                },
                                {
                                    "SZOBA_FK": "171",
                                    "Foglalások_szama": "5"
                                },
                                {
                                    "SZOBA_FK": "181",
                                    "Foglalások_szama": "5"
                                },
                                {
                                    "SZOBA_FK": "140",
                                    "Foglalások_szama": "5"
                                },
                                {
                                    "SZOBA_FK": "195",
                                    "Foglalások_szama": "5"
                                },
                                {
                                    "SZOBA_FK": "190",
                                    "Foglalások_szama": "5"
                                },
                                {
                                    "SZOBA_FK": "197",
                                    "Foglalások_szama": "6"
                                },
                                {
                                    "SZOBA_FK": "187",
                                    "Foglalások_szama": "6"
                                },
                                {
                                    "SZOBA_FK": "172",
                                    "Foglalások_szama": "6"
                                },
                                {
                                    "SZOBA_FK": "150",
                                    "Foglalások_szama": "6"
                                },
                                {
                                    "SZOBA_FK": "139",
                                    "Foglalások_szama": "6"
                                },
                                {
                                    "SZOBA_FK": "94",
                                    "Foglalások_szama": "6"
                                },
                                {
                                    "SZOBA_FK": "96",
                                    "Foglalások_szama": "6"
                                },
                                {
                                    "SZOBA_FK": "44",
                                    "Foglalások_szama": "6"
                                },
                                {
                                    "SZOBA_FK": "48",
                                    "Foglalások_szama": "6"
                                },
                                {
                                    "SZOBA_FK": "35",
                                    "Foglalások_szama": "6"
                                },
                                {
                                    "SZOBA_FK": "7",
                                    "Foglalások_szama": "6"
                                },
                                {
                                    "SZOBA_FK": "12",
                                    "Foglalások_szama": "7"
                                },
                                {
                                    "SZOBA_FK": "1",
                                    "Foglalások_szama": "7"
                                },
                                {
                                    "SZOBA_FK": "198",
                                    "Foglalások_szama": "7"
                                },
                                {
                                    "SZOBA_FK": "89",
                                    "Foglalások_szama": "8"
                                },
                                {
                                    "SZOBA_FK": "74",
                                    "Foglalások_szama": "8"
                                },
                                {
                                    "SZOBA_FK": "70",
                                    "Foglalások_szama": "8"
                                },
                                {
                                    "SZOBA_FK": "58",
                                    "Foglalások_szama": "8"
                                },
                                {
                                    "SZOBA_FK": "185",
                                    "Foglalások_szama": "10"
                                },
                                {
                                    "SZOBA_FK": "182",
                                    "Foglalások_szama": "11"
                                }
                            ]
                        },
                        "text/html": [
                            "<table>",
                            "<tr><th>SZOBA_FK</th><th>Foglalások_szama</th></tr>",
                            "<tr><td>3</td><td>3</td></tr>",
                            "<tr><td>14</td><td>3</td></tr>",
                            "<tr><td>23</td><td>3</td></tr>",
                            "<tr><td>24</td><td>3</td></tr>",
                            "<tr><td>29</td><td>3</td></tr>",
                            "<tr><td>33</td><td>3</td></tr>",
                            "<tr><td>34</td><td>3</td></tr>",
                            "<tr><td>18</td><td>3</td></tr>",
                            "<tr><td>40</td><td>3</td></tr>",
                            "<tr><td>46</td><td>3</td></tr>",
                            "<tr><td>50</td><td>3</td></tr>",
                            "<tr><td>51</td><td>3</td></tr>",
                            "<tr><td>55</td><td>3</td></tr>",
                            "<tr><td>57</td><td>3</td></tr>",
                            "<tr><td>62</td><td>3</td></tr>",
                            "<tr><td>63</td><td>3</td></tr>",
                            "<tr><td>66</td><td>3</td></tr>",
                            "<tr><td>77</td><td>3</td></tr>",
                            "<tr><td>78</td><td>3</td></tr>",
                            "<tr><td>81</td><td>3</td></tr>",
                            "<tr><td>84</td><td>3</td></tr>",
                            "<tr><td>90</td><td>3</td></tr>",
                            "<tr><td>93</td><td>3</td></tr>",
                            "<tr><td>95</td><td>3</td></tr>",
                            "<tr><td>104</td><td>3</td></tr>",
                            "<tr><td>122</td><td>3</td></tr>",
                            "<tr><td>129</td><td>3</td></tr>",
                            "<tr><td>135</td><td>3</td></tr>",
                            "<tr><td>146</td><td>3</td></tr>",
                            "<tr><td>154</td><td>3</td></tr>",
                            "<tr><td>155</td><td>3</td></tr>",
                            "<tr><td>158</td><td>3</td></tr>",
                            "<tr><td>161</td><td>3</td></tr>",
                            "<tr><td>152</td><td>3</td></tr>",
                            "<tr><td>166</td><td>3</td></tr>",
                            "<tr><td>169</td><td>3</td></tr>",
                            "<tr><td>170</td><td>3</td></tr>",
                            "<tr><td>173</td><td>3</td></tr>",
                            "<tr><td>175</td><td>3</td></tr>",
                            "<tr><td>183</td><td>3</td></tr>",
                            "<tr><td>191</td><td>3</td></tr>",
                            "<tr><td>184</td><td>4</td></tr>",
                            "<tr><td>174</td><td>4</td></tr>",
                            "<tr><td>153</td><td>4</td></tr>",
                            "<tr><td>164</td><td>4</td></tr>",
                            "<tr><td>141</td><td>4</td></tr>",
                            "<tr><td>131</td><td>4</td></tr>",
                            "<tr><td>132</td><td>4</td></tr>",
                            "<tr><td>133</td><td>4</td></tr>",
                            "<tr><td>134</td><td>4</td></tr>",
                            "<tr><td>124</td><td>4</td></tr>",
                            "<tr><td>126</td><td>4</td></tr>",
                            "<tr><td>117</td><td>4</td></tr>",
                            "<tr><td>119</td><td>4</td></tr>",
                            "<tr><td>106</td><td>4</td></tr>",
                            "<tr><td>107</td><td>4</td></tr>",
                            "<tr><td>98</td><td>4</td></tr>",
                            "<tr><td>99</td><td>4</td></tr>",
                            "<tr><td>112</td><td>4</td></tr>",
                            "<tr><td>54</td><td>4</td></tr>",
                            "<tr><td>86</td><td>4</td></tr>",
                            "<tr><td>73</td><td>4</td></tr>",
                            "<tr><td>79</td><td>4</td></tr>",
                            "<tr><td>59</td><td>4</td></tr>",
                            "<tr><td>61</td><td>4</td></tr>",
                            "<tr><td>45</td><td>4</td></tr>",
                            "<tr><td>43</td><td>4</td></tr>",
                            "<tr><td>13</td><td>4</td></tr>",
                            "<tr><td>39</td><td>4</td></tr>",
                            "<tr><td>19</td><td>4</td></tr>",
                            "<tr><td>36</td><td>4</td></tr>",
                            "<tr><td>15</td><td>4</td></tr>",
                            "<tr><td>9</td><td>4</td></tr>",
                            "<tr><td>10</td><td>4</td></tr>",
                            "<tr><td>11</td><td>4</td></tr>",
                            "<tr><td>4</td><td>5</td></tr>",
                            "<tr><td>6</td><td>5</td></tr>",
                            "<tr><td>8</td><td>5</td></tr>",
                            "<tr><td>27</td><td>5</td></tr>",
                            "<tr><td>28</td><td>5</td></tr>",
                            "<tr><td>38</td><td>5</td></tr>",
                            "<tr><td>20</td><td>5</td></tr>",
                            "<tr><td>42</td><td>5</td></tr>",
                            "<tr><td>49</td><td>5</td></tr>",
                            "<tr><td>52</td><td>5</td></tr>",
                            "<tr><td>80</td><td>5</td></tr>",
                            "<tr><td>64</td><td>5</td></tr>",
                            "<tr><td>82</td><td>5</td></tr>",
                            "<tr><td>83</td><td>5</td></tr>",
                            "<tr><td>87</td><td>5</td></tr>",
                            "<tr><td>88</td><td>5</td></tr>",
                            "<tr><td>97</td><td>5</td></tr>",
                            "<tr><td>92</td><td>5</td></tr>",
                            "<tr><td>115</td><td>5</td></tr>",
                            "<tr><td>110</td><td>5</td></tr>",
                            "<tr><td>121</td><td>5</td></tr>",
                            "<tr><td>123</td><td>5</td></tr>",
                            "<tr><td>127</td><td>5</td></tr>",
                            "<tr><td>130</td><td>5</td></tr>",
                            "<tr><td>143</td><td>5</td></tr>",
                            "<tr><td>138</td><td>5</td></tr>",
                            "<tr><td>163</td><td>5</td></tr>",
                            "<tr><td>148</td><td>5</td></tr>",
                            "<tr><td>149</td><td>5</td></tr>",
                            "<tr><td>165</td><td>5</td></tr>",
                            "<tr><td>171</td><td>5</td></tr>",
                            "<tr><td>181</td><td>5</td></tr>",
                            "<tr><td>140</td><td>5</td></tr>",
                            "<tr><td>195</td><td>5</td></tr>",
                            "<tr><td>190</td><td>5</td></tr>",
                            "<tr><td>197</td><td>6</td></tr>",
                            "<tr><td>187</td><td>6</td></tr>",
                            "<tr><td>172</td><td>6</td></tr>",
                            "<tr><td>150</td><td>6</td></tr>",
                            "<tr><td>139</td><td>6</td></tr>",
                            "<tr><td>94</td><td>6</td></tr>",
                            "<tr><td>96</td><td>6</td></tr>",
                            "<tr><td>44</td><td>6</td></tr>",
                            "<tr><td>48</td><td>6</td></tr>",
                            "<tr><td>35</td><td>6</td></tr>",
                            "<tr><td>7</td><td>6</td></tr>",
                            "<tr><td>12</td><td>7</td></tr>",
                            "<tr><td>1</td><td>7</td></tr>",
                            "<tr><td>198</td><td>7</td></tr>",
                            "<tr><td>89</td><td>8</td></tr>",
                            "<tr><td>74</td><td>8</td></tr>",
                            "<tr><td>70</td><td>8</td></tr>",
                            "<tr><td>58</td><td>8</td></tr>",
                            "<tr><td>185</td><td>10</td></tr>",
                            "<tr><td>182</td><td>11</td></tr>",
                            "</table>"
                        ]
                    }
                }
            ],
            "execution_count": 30
        },
        {
            "cell_type": "code",
            "source": [
                "SELECT\r\n",
                "    IIF(YEAR(SZUL_DAT) > 1985, 'fiatal',\r\n",
                "        IIF(YEAR(SZUL_DAT) < 1970, 'idős', 'középkorú')) AS kategóra,\r\n",
                "    COUNT(*) AS Foglalások_száma\r\n",
                "FROM Vendeg v JOIN Foglalas f ON v.USERNEV = f.UGYFEL_FK\r\n",
                "WHERE FELNOTT_SZAM >= 2\r\n",
                "GROUP BY\r\n",
                "    IIF(YEAR(SZUL_DAT) > 1985, 'fiatal',\r\n",
                "        IIF(YEAR(SZUL_DAT) < 1970, 'idős', 'középkorú'));"
            ],
            "metadata": {
                "azdata_cell_guid": "7ce0abcd-d623-469d-b91f-8dab94948795",
                "language": "sql"
            },
            "outputs": [
                {
                    "output_type": "display_data",
                    "data": {
                        "text/html": "(3 rows affected)"
                    },
                    "metadata": {}
                },
                {
                    "output_type": "display_data",
                    "data": {
                        "text/html": "Total execution time: 00:00:00.013"
                    },
                    "metadata": {}
                },
                {
                    "output_type": "execute_result",
                    "metadata": {},
                    "execution_count": 31,
                    "data": {
                        "application/vnd.dataresource+json": {
                            "schema": {
                                "fields": [
                                    {
                                        "name": "kategóra"
                                    },
                                    {
                                        "name": "Foglalások_száma"
                                    }
                                ]
                            },
                            "data": [
                                {
                                    "kategóra": "fiatal",
                                    "Foglalások_száma": "213"
                                },
                                {
                                    "kategóra": "idős",
                                    "Foglalások_száma": "65"
                                },
                                {
                                    "kategóra": "középkorú",
                                    "Foglalások_száma": "282"
                                }
                            ]
                        },
                        "text/html": [
                            "<table>",
                            "<tr><th>kategóra</th><th>Foglalások_száma</th></tr>",
                            "<tr><td>fiatal</td><td>213</td></tr>",
                            "<tr><td>idős</td><td>65</td></tr>",
                            "<tr><td>középkorú</td><td>282</td></tr>",
                            "</table>"
                        ]
                    }
                }
            ],
            "execution_count": 31
        }
    ]
}